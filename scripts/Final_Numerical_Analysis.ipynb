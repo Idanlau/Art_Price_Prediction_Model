{
 "cells": [
  {
   "cell_type": "code",
   "execution_count": 96,
   "metadata": {
    "id": "i2XowZIGqbzr",
    "pycharm": {
     "name": "#%%\n"
    }
   },
   "outputs": [],
   "source": [
    "import pandas as pd"
   ]
  },
  {
   "cell_type": "code",
   "execution_count": 97,
   "metadata": {
    "colab": {
     "base_uri": "https://localhost:8080/",
     "height": 676
    },
    "id": "9xa3x1skrSj0",
    "outputId": "d5715b29-14e5-4ce1-d40c-6c50ef4a051b",
    "pycharm": {
     "name": "#%%\n"
    }
   },
   "outputs": [
    {
     "output_type": "execute_result",
     "data": {
      "text/plain": [
       "     Unnamed: 0  Unnamed: 0.1  Unnamed: 0.1.1       price  \\\n",
       "0             0             0               0  28.500 USD   \n",
       "1             1             1               1   3.000 USD   \n",
       "2             2             2               2   5.000 USD   \n",
       "3             3             3               3   5.000 USD   \n",
       "4             4             4               4   2.500 USD   \n",
       "..          ...           ...             ...         ...   \n",
       "749         749           749             749     680 USD   \n",
       "750         750           750             750   1.275 USD   \n",
       "751         751           751             751     680 USD   \n",
       "752         752           752             752   1.275 USD   \n",
       "753         753           753             753     680 USD   \n",
       "\n",
       "                       artist  fame                  title  \\\n",
       "0             Tommaso Ottieri   0.0         Bayreuth Opera   \n",
       "1           Pavel Tchelitchew   0.0  Drawings of the Opera   \n",
       "2                   Leo Gabin  98.0        Two on Sidewalk   \n",
       "3           Matthias Dornfeld  88.0            Blumenszene   \n",
       "4    Alexis Marguerite Teplin   0.0   Feverish Embarkation   \n",
       "..                        ...   ...                    ...   \n",
       "749                 Jane Kent   0.0       Miracle Grow #17   \n",
       "750                Gary Bower   0.0           Rolph Series   \n",
       "751                 Jane Kent   0.0               Untitled   \n",
       "752              T. L. Solien   0.0                Juniper   \n",
       "753                 John Duff   0.0         Untitled Print   \n",
       "\n",
       "                 yearCreation  \\\n",
       "0                        2021   \n",
       "1    First Half 20th Century    \n",
       "2                        2016   \n",
       "3                        2010   \n",
       "4                        2001   \n",
       "..                        ...   \n",
       "749                      2012   \n",
       "750                      1970   \n",
       "751                      2012   \n",
       "752                      1986   \n",
       "753                      1975   \n",
       "\n",
       "                                                signed  \\\n",
       "0                                      Signed on verso   \n",
       "1                                    Signed and titled   \n",
       "2                    Signed, titled and dated on verso   \n",
       "3    Signed, titled and dated on the reverse with t...   \n",
       "4                                      Signed on verso   \n",
       "..                                                 ...   \n",
       "749                   Signed and dated on lower right.   \n",
       "750                                              [nan]   \n",
       "751                                              [nan]   \n",
       "752                                              [nan]   \n",
       "753              Signed, dated and numbered in pencil.   \n",
       "\n",
       "                                             condition        period  \\\n",
       "0                 This work is in excellent condition.  Contemporary   \n",
       "1    Not examined out of frame.No obvious signs of ...      Post-War   \n",
       "2                 This work is in excellent condition.  Contemporary   \n",
       "3    This work is in excellent condition.There is m...  Contemporary   \n",
       "4                 This work is in excellent condition.  Contemporary   \n",
       "..                                                 ...           ...   \n",
       "749  Not examined out of frame.No obvious signs of ...  Contemporary   \n",
       "750  Not examined out of frame.Significant undulati...  Contemporary   \n",
       "751  Not examined out of frame.No apparent imperfec...  Contemporary   \n",
       "752  Not examined outside of frame.Pinholes at edge...  Contemporary   \n",
       "753  Not examined out of frame.Scattered surface sc...        Modern   \n",
       "\n",
       "                  movement  \n",
       "0                  Baroque  \n",
       "1               Surrealism  \n",
       "2                 Abstract  \n",
       "3                 Abstract  \n",
       "4                 Abstract  \n",
       "..                     ...  \n",
       "749               Abstract  \n",
       "750  Geometric Abstraction  \n",
       "751  Geometric Abstraction  \n",
       "752               Abstract  \n",
       "753  Geometric Abstraction  \n",
       "\n",
       "[754 rows x 12 columns]"
      ],
      "text/html": [
       "\n",
       "  <div id=\"df-3949d5e2-2515-4973-8893-7d30e4f44cf1\">\n",
       "    <div class=\"colab-df-container\">\n",
       "      <div>\n",
       "<style scoped>\n",
       "    .dataframe tbody tr th:only-of-type {\n",
       "        vertical-align: middle;\n",
       "    }\n",
       "\n",
       "    .dataframe tbody tr th {\n",
       "        vertical-align: top;\n",
       "    }\n",
       "\n",
       "    .dataframe thead th {\n",
       "        text-align: right;\n",
       "    }\n",
       "</style>\n",
       "<table border=\"1\" class=\"dataframe\">\n",
       "  <thead>\n",
       "    <tr style=\"text-align: right;\">\n",
       "      <th></th>\n",
       "      <th>Unnamed: 0</th>\n",
       "      <th>Unnamed: 0.1</th>\n",
       "      <th>Unnamed: 0.1.1</th>\n",
       "      <th>price</th>\n",
       "      <th>artist</th>\n",
       "      <th>fame</th>\n",
       "      <th>title</th>\n",
       "      <th>yearCreation</th>\n",
       "      <th>signed</th>\n",
       "      <th>condition</th>\n",
       "      <th>period</th>\n",
       "      <th>movement</th>\n",
       "    </tr>\n",
       "  </thead>\n",
       "  <tbody>\n",
       "    <tr>\n",
       "      <th>0</th>\n",
       "      <td>0</td>\n",
       "      <td>0</td>\n",
       "      <td>0</td>\n",
       "      <td>28.500 USD</td>\n",
       "      <td>Tommaso Ottieri</td>\n",
       "      <td>0.0</td>\n",
       "      <td>Bayreuth Opera</td>\n",
       "      <td>2021</td>\n",
       "      <td>Signed on verso</td>\n",
       "      <td>This work is in excellent condition.</td>\n",
       "      <td>Contemporary</td>\n",
       "      <td>Baroque</td>\n",
       "    </tr>\n",
       "    <tr>\n",
       "      <th>1</th>\n",
       "      <td>1</td>\n",
       "      <td>1</td>\n",
       "      <td>1</td>\n",
       "      <td>3.000 USD</td>\n",
       "      <td>Pavel Tchelitchew</td>\n",
       "      <td>0.0</td>\n",
       "      <td>Drawings of the Opera</td>\n",
       "      <td>First Half 20th Century</td>\n",
       "      <td>Signed and titled</td>\n",
       "      <td>Not examined out of frame.No obvious signs of ...</td>\n",
       "      <td>Post-War</td>\n",
       "      <td>Surrealism</td>\n",
       "    </tr>\n",
       "    <tr>\n",
       "      <th>2</th>\n",
       "      <td>2</td>\n",
       "      <td>2</td>\n",
       "      <td>2</td>\n",
       "      <td>5.000 USD</td>\n",
       "      <td>Leo Gabin</td>\n",
       "      <td>98.0</td>\n",
       "      <td>Two on Sidewalk</td>\n",
       "      <td>2016</td>\n",
       "      <td>Signed, titled and dated on verso</td>\n",
       "      <td>This work is in excellent condition.</td>\n",
       "      <td>Contemporary</td>\n",
       "      <td>Abstract</td>\n",
       "    </tr>\n",
       "    <tr>\n",
       "      <th>3</th>\n",
       "      <td>3</td>\n",
       "      <td>3</td>\n",
       "      <td>3</td>\n",
       "      <td>5.000 USD</td>\n",
       "      <td>Matthias Dornfeld</td>\n",
       "      <td>88.0</td>\n",
       "      <td>Blumenszene</td>\n",
       "      <td>2010</td>\n",
       "      <td>Signed, titled and dated on the reverse with t...</td>\n",
       "      <td>This work is in excellent condition.There is m...</td>\n",
       "      <td>Contemporary</td>\n",
       "      <td>Abstract</td>\n",
       "    </tr>\n",
       "    <tr>\n",
       "      <th>4</th>\n",
       "      <td>4</td>\n",
       "      <td>4</td>\n",
       "      <td>4</td>\n",
       "      <td>2.500 USD</td>\n",
       "      <td>Alexis Marguerite Teplin</td>\n",
       "      <td>0.0</td>\n",
       "      <td>Feverish Embarkation</td>\n",
       "      <td>2001</td>\n",
       "      <td>Signed on verso</td>\n",
       "      <td>This work is in excellent condition.</td>\n",
       "      <td>Contemporary</td>\n",
       "      <td>Abstract</td>\n",
       "    </tr>\n",
       "    <tr>\n",
       "      <th>...</th>\n",
       "      <td>...</td>\n",
       "      <td>...</td>\n",
       "      <td>...</td>\n",
       "      <td>...</td>\n",
       "      <td>...</td>\n",
       "      <td>...</td>\n",
       "      <td>...</td>\n",
       "      <td>...</td>\n",
       "      <td>...</td>\n",
       "      <td>...</td>\n",
       "      <td>...</td>\n",
       "      <td>...</td>\n",
       "    </tr>\n",
       "    <tr>\n",
       "      <th>749</th>\n",
       "      <td>749</td>\n",
       "      <td>749</td>\n",
       "      <td>749</td>\n",
       "      <td>680 USD</td>\n",
       "      <td>Jane Kent</td>\n",
       "      <td>0.0</td>\n",
       "      <td>Miracle Grow #17</td>\n",
       "      <td>2012</td>\n",
       "      <td>Signed and dated on lower right.</td>\n",
       "      <td>Not examined out of frame.No obvious signs of ...</td>\n",
       "      <td>Contemporary</td>\n",
       "      <td>Abstract</td>\n",
       "    </tr>\n",
       "    <tr>\n",
       "      <th>750</th>\n",
       "      <td>750</td>\n",
       "      <td>750</td>\n",
       "      <td>750</td>\n",
       "      <td>1.275 USD</td>\n",
       "      <td>Gary Bower</td>\n",
       "      <td>0.0</td>\n",
       "      <td>Rolph Series</td>\n",
       "      <td>1970</td>\n",
       "      <td>[nan]</td>\n",
       "      <td>Not examined out of frame.Significant undulati...</td>\n",
       "      <td>Contemporary</td>\n",
       "      <td>Geometric Abstraction</td>\n",
       "    </tr>\n",
       "    <tr>\n",
       "      <th>751</th>\n",
       "      <td>751</td>\n",
       "      <td>751</td>\n",
       "      <td>751</td>\n",
       "      <td>680 USD</td>\n",
       "      <td>Jane Kent</td>\n",
       "      <td>0.0</td>\n",
       "      <td>Untitled</td>\n",
       "      <td>2012</td>\n",
       "      <td>[nan]</td>\n",
       "      <td>Not examined out of frame.No apparent imperfec...</td>\n",
       "      <td>Contemporary</td>\n",
       "      <td>Geometric Abstraction</td>\n",
       "    </tr>\n",
       "    <tr>\n",
       "      <th>752</th>\n",
       "      <td>752</td>\n",
       "      <td>752</td>\n",
       "      <td>752</td>\n",
       "      <td>1.275 USD</td>\n",
       "      <td>T. L. Solien</td>\n",
       "      <td>0.0</td>\n",
       "      <td>Juniper</td>\n",
       "      <td>1986</td>\n",
       "      <td>[nan]</td>\n",
       "      <td>Not examined outside of frame.Pinholes at edge...</td>\n",
       "      <td>Contemporary</td>\n",
       "      <td>Abstract</td>\n",
       "    </tr>\n",
       "    <tr>\n",
       "      <th>753</th>\n",
       "      <td>753</td>\n",
       "      <td>753</td>\n",
       "      <td>753</td>\n",
       "      <td>680 USD</td>\n",
       "      <td>John Duff</td>\n",
       "      <td>0.0</td>\n",
       "      <td>Untitled Print</td>\n",
       "      <td>1975</td>\n",
       "      <td>Signed, dated and numbered in pencil.</td>\n",
       "      <td>Not examined out of frame.Scattered surface sc...</td>\n",
       "      <td>Modern</td>\n",
       "      <td>Geometric Abstraction</td>\n",
       "    </tr>\n",
       "  </tbody>\n",
       "</table>\n",
       "<p>754 rows × 12 columns</p>\n",
       "</div>\n",
       "      <button class=\"colab-df-convert\" onclick=\"convertToInteractive('df-3949d5e2-2515-4973-8893-7d30e4f44cf1')\"\n",
       "              title=\"Convert this dataframe to an interactive table.\"\n",
       "              style=\"display:none;\">\n",
       "        \n",
       "  <svg xmlns=\"http://www.w3.org/2000/svg\" height=\"24px\"viewBox=\"0 0 24 24\"\n",
       "       width=\"24px\">\n",
       "    <path d=\"M0 0h24v24H0V0z\" fill=\"none\"/>\n",
       "    <path d=\"M18.56 5.44l.94 2.06.94-2.06 2.06-.94-2.06-.94-.94-2.06-.94 2.06-2.06.94zm-11 1L8.5 8.5l.94-2.06 2.06-.94-2.06-.94L8.5 2.5l-.94 2.06-2.06.94zm10 10l.94 2.06.94-2.06 2.06-.94-2.06-.94-.94-2.06-.94 2.06-2.06.94z\"/><path d=\"M17.41 7.96l-1.37-1.37c-.4-.4-.92-.59-1.43-.59-.52 0-1.04.2-1.43.59L10.3 9.45l-7.72 7.72c-.78.78-.78 2.05 0 2.83L4 21.41c.39.39.9.59 1.41.59.51 0 1.02-.2 1.41-.59l7.78-7.78 2.81-2.81c.8-.78.8-2.07 0-2.86zM5.41 20L4 18.59l7.72-7.72 1.47 1.35L5.41 20z\"/>\n",
       "  </svg>\n",
       "      </button>\n",
       "      \n",
       "  <style>\n",
       "    .colab-df-container {\n",
       "      display:flex;\n",
       "      flex-wrap:wrap;\n",
       "      gap: 12px;\n",
       "    }\n",
       "\n",
       "    .colab-df-convert {\n",
       "      background-color: #E8F0FE;\n",
       "      border: none;\n",
       "      border-radius: 50%;\n",
       "      cursor: pointer;\n",
       "      display: none;\n",
       "      fill: #1967D2;\n",
       "      height: 32px;\n",
       "      padding: 0 0 0 0;\n",
       "      width: 32px;\n",
       "    }\n",
       "\n",
       "    .colab-df-convert:hover {\n",
       "      background-color: #E2EBFA;\n",
       "      box-shadow: 0px 1px 2px rgba(60, 64, 67, 0.3), 0px 1px 3px 1px rgba(60, 64, 67, 0.15);\n",
       "      fill: #174EA6;\n",
       "    }\n",
       "\n",
       "    [theme=dark] .colab-df-convert {\n",
       "      background-color: #3B4455;\n",
       "      fill: #D2E3FC;\n",
       "    }\n",
       "\n",
       "    [theme=dark] .colab-df-convert:hover {\n",
       "      background-color: #434B5C;\n",
       "      box-shadow: 0px 1px 3px 1px rgba(0, 0, 0, 0.15);\n",
       "      filter: drop-shadow(0px 1px 2px rgba(0, 0, 0, 0.3));\n",
       "      fill: #FFFFFF;\n",
       "    }\n",
       "  </style>\n",
       "\n",
       "      <script>\n",
       "        const buttonEl =\n",
       "          document.querySelector('#df-3949d5e2-2515-4973-8893-7d30e4f44cf1 button.colab-df-convert');\n",
       "        buttonEl.style.display =\n",
       "          google.colab.kernel.accessAllowed ? 'block' : 'none';\n",
       "\n",
       "        async function convertToInteractive(key) {\n",
       "          const element = document.querySelector('#df-3949d5e2-2515-4973-8893-7d30e4f44cf1');\n",
       "          const dataTable =\n",
       "            await google.colab.kernel.invokeFunction('convertToInteractive',\n",
       "                                                     [key], {});\n",
       "          if (!dataTable) return;\n",
       "\n",
       "          const docLinkHtml = 'Like what you see? Visit the ' +\n",
       "            '<a target=\"_blank\" href=https://colab.research.google.com/notebooks/data_table.ipynb>data table notebook</a>'\n",
       "            + ' to learn more about interactive tables.';\n",
       "          element.innerHTML = '';\n",
       "          dataTable['output_type'] = 'display_data';\n",
       "          await google.colab.output.renderOutput(dataTable, element);\n",
       "          const docLink = document.createElement('div');\n",
       "          docLink.innerHTML = docLinkHtml;\n",
       "          element.appendChild(docLink);\n",
       "        }\n",
       "      </script>\n",
       "    </div>\n",
       "  </div>\n",
       "  "
      ]
     },
     "metadata": {},
     "execution_count": 97
    }
   ],
   "source": [
    "df = pd.read_csv(\"https://raw.githubusercontent.com/Idanlau/Cloudera_Hackathon/Word-Encoding/artist_fame.csv\")\n",
    "df"
   ]
  },
  {
   "cell_type": "code",
   "execution_count": 98,
   "metadata": {
    "pycharm": {
     "name": "#%%\n"
    },
    "id": "uWNNVUHZ1vM-"
   },
   "outputs": [],
   "source": [
    "movement_df = pd.get_dummies(df['movement'])\n",
    "period_df = pd.get_dummies(df['period'])\n",
    "movement_df.drop(columns='[nan]',inplace=True)\n",
    "period_df.drop(columns='[nan]',inplace=True)"
   ]
  },
  {
   "cell_type": "code",
   "execution_count": 99,
   "metadata": {
    "pycharm": {
     "name": "#%%\n"
    },
    "id": "g-39Cmtw1vM-"
   },
   "outputs": [],
   "source": [
    "df.drop(columns='movement',inplace=True)\n",
    "df.drop(columns='period',inplace=True)"
   ]
  },
  {
   "cell_type": "code",
   "execution_count": 100,
   "metadata": {
    "pycharm": {
     "name": "#%%\n"
    },
    "id": "2wdjWcXE1vM-"
   },
   "outputs": [],
   "source": [
    "df = df.join(movement_df)"
   ]
  },
  {
   "cell_type": "code",
   "execution_count": 101,
   "metadata": {
    "pycharm": {
     "name": "#%%\n"
    },
    "id": "8BZrDezn1vM-"
   },
   "outputs": [],
   "source": [
    "df = df.join(period_df)"
   ]
  },
  {
   "cell_type": "code",
   "execution_count": 102,
   "metadata": {
    "pycharm": {
     "name": "#%%\n"
    },
    "colab": {
     "base_uri": "https://localhost:8080/",
     "height": 1000
    },
    "id": "RpHdYLJW1vM-",
    "outputId": "6daee0c3-4b23-45e6-ae89-7f957f54d37d"
   },
   "outputs": [
    {
     "output_type": "execute_result",
     "data": {
      "text/plain": [
       "     Unnamed: 0  Unnamed: 0.1  Unnamed: 0.1.1       price  \\\n",
       "0             0             0               0  28.500 USD   \n",
       "1             1             1               1   3.000 USD   \n",
       "2             2             2               2   5.000 USD   \n",
       "3             3             3               3   5.000 USD   \n",
       "4             4             4               4   2.500 USD   \n",
       "..          ...           ...             ...         ...   \n",
       "749         749           749             749     680 USD   \n",
       "750         750           750             750   1.275 USD   \n",
       "751         751           751             751     680 USD   \n",
       "752         752           752             752   1.275 USD   \n",
       "753         753           753             753     680 USD   \n",
       "\n",
       "                       artist  fame                  title  \\\n",
       "0             Tommaso Ottieri   0.0         Bayreuth Opera   \n",
       "1           Pavel Tchelitchew   0.0  Drawings of the Opera   \n",
       "2                   Leo Gabin  98.0        Two on Sidewalk   \n",
       "3           Matthias Dornfeld  88.0            Blumenszene   \n",
       "4    Alexis Marguerite Teplin   0.0   Feverish Embarkation   \n",
       "..                        ...   ...                    ...   \n",
       "749                 Jane Kent   0.0       Miracle Grow #17   \n",
       "750                Gary Bower   0.0           Rolph Series   \n",
       "751                 Jane Kent   0.0               Untitled   \n",
       "752              T. L. Solien   0.0                Juniper   \n",
       "753                 John Duff   0.0         Untitled Print   \n",
       "\n",
       "                 yearCreation  \\\n",
       "0                        2021   \n",
       "1    First Half 20th Century    \n",
       "2                        2016   \n",
       "3                        2010   \n",
       "4                        2001   \n",
       "..                        ...   \n",
       "749                      2012   \n",
       "750                      1970   \n",
       "751                      2012   \n",
       "752                      1986   \n",
       "753                      1975   \n",
       "\n",
       "                                                signed  \\\n",
       "0                                      Signed on verso   \n",
       "1                                    Signed and titled   \n",
       "2                    Signed, titled and dated on verso   \n",
       "3    Signed, titled and dated on the reverse with t...   \n",
       "4                                      Signed on verso   \n",
       "..                                                 ...   \n",
       "749                   Signed and dated on lower right.   \n",
       "750                                              [nan]   \n",
       "751                                              [nan]   \n",
       "752                                              [nan]   \n",
       "753              Signed, dated and numbered in pencil.   \n",
       "\n",
       "                                             condition  ...  Realism  \\\n",
       "0                 This work is in excellent condition.  ...        0   \n",
       "1    Not examined out of frame.No obvious signs of ...  ...        0   \n",
       "2                 This work is in excellent condition.  ...        0   \n",
       "3    This work is in excellent condition.There is m...  ...        0   \n",
       "4                 This work is in excellent condition.  ...        0   \n",
       "..                                                 ...  ...      ...   \n",
       "749  Not examined out of frame.No obvious signs of ...  ...        0   \n",
       "750  Not examined out of frame.Significant undulati...  ...        0   \n",
       "751  Not examined out of frame.No apparent imperfec...  ...        0   \n",
       "752  Not examined outside of frame.Pinholes at edge...  ...        0   \n",
       "753  Not examined out of frame.Scattered surface sc...  ...        0   \n",
       "\n",
       "     Romanticism  Social Realism  Street Art  Surrealism  Traditional  \\\n",
       "0              0               0           0           0            0   \n",
       "1              0               0           0           1            0   \n",
       "2              0               0           0           0            0   \n",
       "3              0               0           0           0            0   \n",
       "4              0               0           0           0            0   \n",
       "..           ...             ...         ...         ...          ...   \n",
       "749            0               0           0           0            0   \n",
       "750            0               0           0           0            0   \n",
       "751            0               0           0           0            0   \n",
       "752            0               0           0           0            0   \n",
       "753            0               0           0           0            0   \n",
       "\n",
       "     19th Century  Contemporary  Modern  Post-War  \n",
       "0               0             1       0         0  \n",
       "1               0             0       0         1  \n",
       "2               0             1       0         0  \n",
       "3               0             1       0         0  \n",
       "4               0             1       0         0  \n",
       "..            ...           ...     ...       ...  \n",
       "749             0             1       0         0  \n",
       "750             0             1       0         0  \n",
       "751             0             1       0         0  \n",
       "752             0             1       0         0  \n",
       "753             0             0       1         0  \n",
       "\n",
       "[754 rows x 47 columns]"
      ],
      "text/html": [
       "\n",
       "  <div id=\"df-8920544f-a464-4aed-bfa5-bb4c58f4dd5b\">\n",
       "    <div class=\"colab-df-container\">\n",
       "      <div>\n",
       "<style scoped>\n",
       "    .dataframe tbody tr th:only-of-type {\n",
       "        vertical-align: middle;\n",
       "    }\n",
       "\n",
       "    .dataframe tbody tr th {\n",
       "        vertical-align: top;\n",
       "    }\n",
       "\n",
       "    .dataframe thead th {\n",
       "        text-align: right;\n",
       "    }\n",
       "</style>\n",
       "<table border=\"1\" class=\"dataframe\">\n",
       "  <thead>\n",
       "    <tr style=\"text-align: right;\">\n",
       "      <th></th>\n",
       "      <th>Unnamed: 0</th>\n",
       "      <th>Unnamed: 0.1</th>\n",
       "      <th>Unnamed: 0.1.1</th>\n",
       "      <th>price</th>\n",
       "      <th>artist</th>\n",
       "      <th>fame</th>\n",
       "      <th>title</th>\n",
       "      <th>yearCreation</th>\n",
       "      <th>signed</th>\n",
       "      <th>condition</th>\n",
       "      <th>...</th>\n",
       "      <th>Realism</th>\n",
       "      <th>Romanticism</th>\n",
       "      <th>Social Realism</th>\n",
       "      <th>Street Art</th>\n",
       "      <th>Surrealism</th>\n",
       "      <th>Traditional</th>\n",
       "      <th>19th Century</th>\n",
       "      <th>Contemporary</th>\n",
       "      <th>Modern</th>\n",
       "      <th>Post-War</th>\n",
       "    </tr>\n",
       "  </thead>\n",
       "  <tbody>\n",
       "    <tr>\n",
       "      <th>0</th>\n",
       "      <td>0</td>\n",
       "      <td>0</td>\n",
       "      <td>0</td>\n",
       "      <td>28.500 USD</td>\n",
       "      <td>Tommaso Ottieri</td>\n",
       "      <td>0.0</td>\n",
       "      <td>Bayreuth Opera</td>\n",
       "      <td>2021</td>\n",
       "      <td>Signed on verso</td>\n",
       "      <td>This work is in excellent condition.</td>\n",
       "      <td>...</td>\n",
       "      <td>0</td>\n",
       "      <td>0</td>\n",
       "      <td>0</td>\n",
       "      <td>0</td>\n",
       "      <td>0</td>\n",
       "      <td>0</td>\n",
       "      <td>0</td>\n",
       "      <td>1</td>\n",
       "      <td>0</td>\n",
       "      <td>0</td>\n",
       "    </tr>\n",
       "    <tr>\n",
       "      <th>1</th>\n",
       "      <td>1</td>\n",
       "      <td>1</td>\n",
       "      <td>1</td>\n",
       "      <td>3.000 USD</td>\n",
       "      <td>Pavel Tchelitchew</td>\n",
       "      <td>0.0</td>\n",
       "      <td>Drawings of the Opera</td>\n",
       "      <td>First Half 20th Century</td>\n",
       "      <td>Signed and titled</td>\n",
       "      <td>Not examined out of frame.No obvious signs of ...</td>\n",
       "      <td>...</td>\n",
       "      <td>0</td>\n",
       "      <td>0</td>\n",
       "      <td>0</td>\n",
       "      <td>0</td>\n",
       "      <td>1</td>\n",
       "      <td>0</td>\n",
       "      <td>0</td>\n",
       "      <td>0</td>\n",
       "      <td>0</td>\n",
       "      <td>1</td>\n",
       "    </tr>\n",
       "    <tr>\n",
       "      <th>2</th>\n",
       "      <td>2</td>\n",
       "      <td>2</td>\n",
       "      <td>2</td>\n",
       "      <td>5.000 USD</td>\n",
       "      <td>Leo Gabin</td>\n",
       "      <td>98.0</td>\n",
       "      <td>Two on Sidewalk</td>\n",
       "      <td>2016</td>\n",
       "      <td>Signed, titled and dated on verso</td>\n",
       "      <td>This work is in excellent condition.</td>\n",
       "      <td>...</td>\n",
       "      <td>0</td>\n",
       "      <td>0</td>\n",
       "      <td>0</td>\n",
       "      <td>0</td>\n",
       "      <td>0</td>\n",
       "      <td>0</td>\n",
       "      <td>0</td>\n",
       "      <td>1</td>\n",
       "      <td>0</td>\n",
       "      <td>0</td>\n",
       "    </tr>\n",
       "    <tr>\n",
       "      <th>3</th>\n",
       "      <td>3</td>\n",
       "      <td>3</td>\n",
       "      <td>3</td>\n",
       "      <td>5.000 USD</td>\n",
       "      <td>Matthias Dornfeld</td>\n",
       "      <td>88.0</td>\n",
       "      <td>Blumenszene</td>\n",
       "      <td>2010</td>\n",
       "      <td>Signed, titled and dated on the reverse with t...</td>\n",
       "      <td>This work is in excellent condition.There is m...</td>\n",
       "      <td>...</td>\n",
       "      <td>0</td>\n",
       "      <td>0</td>\n",
       "      <td>0</td>\n",
       "      <td>0</td>\n",
       "      <td>0</td>\n",
       "      <td>0</td>\n",
       "      <td>0</td>\n",
       "      <td>1</td>\n",
       "      <td>0</td>\n",
       "      <td>0</td>\n",
       "    </tr>\n",
       "    <tr>\n",
       "      <th>4</th>\n",
       "      <td>4</td>\n",
       "      <td>4</td>\n",
       "      <td>4</td>\n",
       "      <td>2.500 USD</td>\n",
       "      <td>Alexis Marguerite Teplin</td>\n",
       "      <td>0.0</td>\n",
       "      <td>Feverish Embarkation</td>\n",
       "      <td>2001</td>\n",
       "      <td>Signed on verso</td>\n",
       "      <td>This work is in excellent condition.</td>\n",
       "      <td>...</td>\n",
       "      <td>0</td>\n",
       "      <td>0</td>\n",
       "      <td>0</td>\n",
       "      <td>0</td>\n",
       "      <td>0</td>\n",
       "      <td>0</td>\n",
       "      <td>0</td>\n",
       "      <td>1</td>\n",
       "      <td>0</td>\n",
       "      <td>0</td>\n",
       "    </tr>\n",
       "    <tr>\n",
       "      <th>...</th>\n",
       "      <td>...</td>\n",
       "      <td>...</td>\n",
       "      <td>...</td>\n",
       "      <td>...</td>\n",
       "      <td>...</td>\n",
       "      <td>...</td>\n",
       "      <td>...</td>\n",
       "      <td>...</td>\n",
       "      <td>...</td>\n",
       "      <td>...</td>\n",
       "      <td>...</td>\n",
       "      <td>...</td>\n",
       "      <td>...</td>\n",
       "      <td>...</td>\n",
       "      <td>...</td>\n",
       "      <td>...</td>\n",
       "      <td>...</td>\n",
       "      <td>...</td>\n",
       "      <td>...</td>\n",
       "      <td>...</td>\n",
       "      <td>...</td>\n",
       "    </tr>\n",
       "    <tr>\n",
       "      <th>749</th>\n",
       "      <td>749</td>\n",
       "      <td>749</td>\n",
       "      <td>749</td>\n",
       "      <td>680 USD</td>\n",
       "      <td>Jane Kent</td>\n",
       "      <td>0.0</td>\n",
       "      <td>Miracle Grow #17</td>\n",
       "      <td>2012</td>\n",
       "      <td>Signed and dated on lower right.</td>\n",
       "      <td>Not examined out of frame.No obvious signs of ...</td>\n",
       "      <td>...</td>\n",
       "      <td>0</td>\n",
       "      <td>0</td>\n",
       "      <td>0</td>\n",
       "      <td>0</td>\n",
       "      <td>0</td>\n",
       "      <td>0</td>\n",
       "      <td>0</td>\n",
       "      <td>1</td>\n",
       "      <td>0</td>\n",
       "      <td>0</td>\n",
       "    </tr>\n",
       "    <tr>\n",
       "      <th>750</th>\n",
       "      <td>750</td>\n",
       "      <td>750</td>\n",
       "      <td>750</td>\n",
       "      <td>1.275 USD</td>\n",
       "      <td>Gary Bower</td>\n",
       "      <td>0.0</td>\n",
       "      <td>Rolph Series</td>\n",
       "      <td>1970</td>\n",
       "      <td>[nan]</td>\n",
       "      <td>Not examined out of frame.Significant undulati...</td>\n",
       "      <td>...</td>\n",
       "      <td>0</td>\n",
       "      <td>0</td>\n",
       "      <td>0</td>\n",
       "      <td>0</td>\n",
       "      <td>0</td>\n",
       "      <td>0</td>\n",
       "      <td>0</td>\n",
       "      <td>1</td>\n",
       "      <td>0</td>\n",
       "      <td>0</td>\n",
       "    </tr>\n",
       "    <tr>\n",
       "      <th>751</th>\n",
       "      <td>751</td>\n",
       "      <td>751</td>\n",
       "      <td>751</td>\n",
       "      <td>680 USD</td>\n",
       "      <td>Jane Kent</td>\n",
       "      <td>0.0</td>\n",
       "      <td>Untitled</td>\n",
       "      <td>2012</td>\n",
       "      <td>[nan]</td>\n",
       "      <td>Not examined out of frame.No apparent imperfec...</td>\n",
       "      <td>...</td>\n",
       "      <td>0</td>\n",
       "      <td>0</td>\n",
       "      <td>0</td>\n",
       "      <td>0</td>\n",
       "      <td>0</td>\n",
       "      <td>0</td>\n",
       "      <td>0</td>\n",
       "      <td>1</td>\n",
       "      <td>0</td>\n",
       "      <td>0</td>\n",
       "    </tr>\n",
       "    <tr>\n",
       "      <th>752</th>\n",
       "      <td>752</td>\n",
       "      <td>752</td>\n",
       "      <td>752</td>\n",
       "      <td>1.275 USD</td>\n",
       "      <td>T. L. Solien</td>\n",
       "      <td>0.0</td>\n",
       "      <td>Juniper</td>\n",
       "      <td>1986</td>\n",
       "      <td>[nan]</td>\n",
       "      <td>Not examined outside of frame.Pinholes at edge...</td>\n",
       "      <td>...</td>\n",
       "      <td>0</td>\n",
       "      <td>0</td>\n",
       "      <td>0</td>\n",
       "      <td>0</td>\n",
       "      <td>0</td>\n",
       "      <td>0</td>\n",
       "      <td>0</td>\n",
       "      <td>1</td>\n",
       "      <td>0</td>\n",
       "      <td>0</td>\n",
       "    </tr>\n",
       "    <tr>\n",
       "      <th>753</th>\n",
       "      <td>753</td>\n",
       "      <td>753</td>\n",
       "      <td>753</td>\n",
       "      <td>680 USD</td>\n",
       "      <td>John Duff</td>\n",
       "      <td>0.0</td>\n",
       "      <td>Untitled Print</td>\n",
       "      <td>1975</td>\n",
       "      <td>Signed, dated and numbered in pencil.</td>\n",
       "      <td>Not examined out of frame.Scattered surface sc...</td>\n",
       "      <td>...</td>\n",
       "      <td>0</td>\n",
       "      <td>0</td>\n",
       "      <td>0</td>\n",
       "      <td>0</td>\n",
       "      <td>0</td>\n",
       "      <td>0</td>\n",
       "      <td>0</td>\n",
       "      <td>0</td>\n",
       "      <td>1</td>\n",
       "      <td>0</td>\n",
       "    </tr>\n",
       "  </tbody>\n",
       "</table>\n",
       "<p>754 rows × 47 columns</p>\n",
       "</div>\n",
       "      <button class=\"colab-df-convert\" onclick=\"convertToInteractive('df-8920544f-a464-4aed-bfa5-bb4c58f4dd5b')\"\n",
       "              title=\"Convert this dataframe to an interactive table.\"\n",
       "              style=\"display:none;\">\n",
       "        \n",
       "  <svg xmlns=\"http://www.w3.org/2000/svg\" height=\"24px\"viewBox=\"0 0 24 24\"\n",
       "       width=\"24px\">\n",
       "    <path d=\"M0 0h24v24H0V0z\" fill=\"none\"/>\n",
       "    <path d=\"M18.56 5.44l.94 2.06.94-2.06 2.06-.94-2.06-.94-.94-2.06-.94 2.06-2.06.94zm-11 1L8.5 8.5l.94-2.06 2.06-.94-2.06-.94L8.5 2.5l-.94 2.06-2.06.94zm10 10l.94 2.06.94-2.06 2.06-.94-2.06-.94-.94-2.06-.94 2.06-2.06.94z\"/><path d=\"M17.41 7.96l-1.37-1.37c-.4-.4-.92-.59-1.43-.59-.52 0-1.04.2-1.43.59L10.3 9.45l-7.72 7.72c-.78.78-.78 2.05 0 2.83L4 21.41c.39.39.9.59 1.41.59.51 0 1.02-.2 1.41-.59l7.78-7.78 2.81-2.81c.8-.78.8-2.07 0-2.86zM5.41 20L4 18.59l7.72-7.72 1.47 1.35L5.41 20z\"/>\n",
       "  </svg>\n",
       "      </button>\n",
       "      \n",
       "  <style>\n",
       "    .colab-df-container {\n",
       "      display:flex;\n",
       "      flex-wrap:wrap;\n",
       "      gap: 12px;\n",
       "    }\n",
       "\n",
       "    .colab-df-convert {\n",
       "      background-color: #E8F0FE;\n",
       "      border: none;\n",
       "      border-radius: 50%;\n",
       "      cursor: pointer;\n",
       "      display: none;\n",
       "      fill: #1967D2;\n",
       "      height: 32px;\n",
       "      padding: 0 0 0 0;\n",
       "      width: 32px;\n",
       "    }\n",
       "\n",
       "    .colab-df-convert:hover {\n",
       "      background-color: #E2EBFA;\n",
       "      box-shadow: 0px 1px 2px rgba(60, 64, 67, 0.3), 0px 1px 3px 1px rgba(60, 64, 67, 0.15);\n",
       "      fill: #174EA6;\n",
       "    }\n",
       "\n",
       "    [theme=dark] .colab-df-convert {\n",
       "      background-color: #3B4455;\n",
       "      fill: #D2E3FC;\n",
       "    }\n",
       "\n",
       "    [theme=dark] .colab-df-convert:hover {\n",
       "      background-color: #434B5C;\n",
       "      box-shadow: 0px 1px 3px 1px rgba(0, 0, 0, 0.15);\n",
       "      filter: drop-shadow(0px 1px 2px rgba(0, 0, 0, 0.3));\n",
       "      fill: #FFFFFF;\n",
       "    }\n",
       "  </style>\n",
       "\n",
       "      <script>\n",
       "        const buttonEl =\n",
       "          document.querySelector('#df-8920544f-a464-4aed-bfa5-bb4c58f4dd5b button.colab-df-convert');\n",
       "        buttonEl.style.display =\n",
       "          google.colab.kernel.accessAllowed ? 'block' : 'none';\n",
       "\n",
       "        async function convertToInteractive(key) {\n",
       "          const element = document.querySelector('#df-8920544f-a464-4aed-bfa5-bb4c58f4dd5b');\n",
       "          const dataTable =\n",
       "            await google.colab.kernel.invokeFunction('convertToInteractive',\n",
       "                                                     [key], {});\n",
       "          if (!dataTable) return;\n",
       "\n",
       "          const docLinkHtml = 'Like what you see? Visit the ' +\n",
       "            '<a target=\"_blank\" href=https://colab.research.google.com/notebooks/data_table.ipynb>data table notebook</a>'\n",
       "            + ' to learn more about interactive tables.';\n",
       "          element.innerHTML = '';\n",
       "          dataTable['output_type'] = 'display_data';\n",
       "          await google.colab.output.renderOutput(dataTable, element);\n",
       "          const docLink = document.createElement('div');\n",
       "          docLink.innerHTML = docLinkHtml;\n",
       "          element.appendChild(docLink);\n",
       "        }\n",
       "      </script>\n",
       "    </div>\n",
       "  </div>\n",
       "  "
      ]
     },
     "metadata": {},
     "execution_count": 102
    }
   ],
   "source": [
    "df"
   ]
  },
  {
   "cell_type": "code",
   "execution_count": 103,
   "metadata": {
    "pycharm": {
     "name": "#%%\n"
    },
    "colab": {
     "base_uri": "https://localhost:8080/"
    },
    "id": "B9wemuvU1vM_",
    "outputId": "6605845f-a95d-4581-8826-d18f9cd213f9"
   },
   "outputs": [
    {
     "output_type": "execute_result",
     "data": {
      "text/plain": [
       "0      2021.0\n",
       "1      1993.0\n",
       "2      2016.0\n",
       "3      2010.0\n",
       "4      2001.0\n",
       "        ...  \n",
       "749    2012.0\n",
       "750    1970.0\n",
       "751    2012.0\n",
       "752    1986.0\n",
       "753    1975.0\n",
       "Name: yearCreation, Length: 754, dtype: float64"
      ]
     },
     "metadata": {},
     "execution_count": 103
    }
   ],
   "source": [
    "df['yearCreation'] = pd.to_numeric(df['yearCreation'],errors = \"coerce\")\n",
    "nan_count = df['yearCreation'].isna().sum().sum()\n",
    "#print(nan_count) #104/753 = around 13.8 percent of data missing for years!\n",
    "df['yearCreation'] = df['yearCreation'].fillna(df['yearCreation'].median()) #Fill it with the median, any better approaches?\n",
    "df['yearCreation']"
   ]
  },
  {
   "cell_type": "code",
   "execution_count": 104,
   "metadata": {
    "colab": {
     "base_uri": "https://localhost:8080/"
    },
    "id": "ppF2MJetBIzM",
    "outputId": "120cf453-67fc-4b8c-97ba-14bebf9848da",
    "pycharm": {
     "name": "#%%\n"
    }
   },
   "outputs": [
    {
     "output_type": "stream",
     "name": "stderr",
     "text": [
      "<ipython-input-104-675a8886b606>:2: FutureWarning: The default value of regex will change from True to False in a future version. In addition, single character regular expressions will *not* be treated as literal strings when regex=True.\n",
      "  df['price'] = df['price'].str.replace(\".\",\"\")\n"
     ]
    },
    {
     "output_type": "execute_result",
     "data": {
      "text/plain": [
       "0      28500\n",
       "1       3000\n",
       "2       5000\n",
       "3       5000\n",
       "4       2500\n",
       "       ...  \n",
       "749      680\n",
       "750     1275\n",
       "751      680\n",
       "752     1275\n",
       "753      680\n",
       "Name: price, Length: 754, dtype: int64"
      ]
     },
     "metadata": {},
     "execution_count": 104
    }
   ],
   "source": [
    "df['price'] = df['price'].str.replace(\"USD\",\"\") #Dropping the USD string so its just numbers\n",
    "df['price'] = df['price'].str.replace(\".\",\"\")\n",
    "df['price'] = pd.to_numeric(df['price'])\n",
    "df['price']"
   ]
  },
  {
   "cell_type": "code",
   "execution_count": 105,
   "metadata": {
    "pycharm": {
     "name": "#%%\n"
    },
    "colab": {
     "base_uri": "https://localhost:8080/"
    },
    "id": "dGTGt__P1vM_",
    "outputId": "1151f914-8132-4809-ba34-59b0788bd1da"
   },
   "outputs": [
    {
     "output_type": "execute_result",
     "data": {
      "text/plain": [
       "<754x747 sparse matrix of type '<class 'numpy.int64'>'\n",
       "\twith 10768 stored elements in Compressed Sparse Row format>"
      ]
     },
     "metadata": {},
     "execution_count": 105
    }
   ],
   "source": [
    "from sklearn.feature_extraction.text import CountVectorizer\n",
    "vectorizer = CountVectorizer()\n",
    "condition = vectorizer.fit_transform(df['condition'])\n",
    "condition"
   ]
  },
  {
   "cell_type": "code",
   "execution_count": null,
   "outputs": [],
   "source": [
    "from sklearn.feature_extraction.text import CountVectorizer\n",
    "vectorizer2 = CountVectorizer()\n",
    "signed = vectorizer2.fit_transform(df['signed'])\n",
    "signed"
   ],
   "metadata": {
    "collapsed": false,
    "pycharm": {
     "name": "#%%\n"
    }
   }
  },
  {
   "cell_type": "code",
   "execution_count": null,
   "outputs": [],
   "source": [
    "condition_labels = pd.DataFrame(condition.toarray(),columns=vectorizer.get_feature_names_out())\n",
    "condition_labels.head(5)"
   ],
   "metadata": {
    "collapsed": false,
    "pycharm": {
     "name": "#%%\n"
    }
   }
  },
  {
   "cell_type": "code",
   "execution_count": null,
   "outputs": [],
   "source": [
    "signed_labels = pd.DataFrame(signed.toarray(),columns=vectorizer2.get_feature_names())\n",
    "signed_labels.head(5)"
   ],
   "metadata": {
    "collapsed": false,
    "pycharm": {
     "name": "#%%\n"
    }
   }
  },
  {
   "cell_type": "code",
   "execution_count": null,
   "outputs": [],
   "source": [
    "from sklearn.feature_extraction.text import TfidfVectorizer\n",
    "vectorizer = TfidfVectorizer()\n",
    "condition = vectorizer.fit_transform(df['condition'])\n",
    "condition"
   ],
   "metadata": {
    "collapsed": false,
    "pycharm": {
     "name": "#%%\n"
    }
   }
  },
  {
   "cell_type": "code",
   "execution_count": null,
   "outputs": [],
   "source": [
    "from sklearn.feature_extraction.text import TfidfVectorizer\n",
    "vectorizer2 = TfidfVectorizer()\n",
    "signed = vectorizer2.fit_transform(df['signed'])\n",
    "signed"
   ],
   "metadata": {
    "collapsed": false,
    "pycharm": {
     "name": "#%%\n"
    }
   }
  },
  {
   "cell_type": "code",
   "execution_count": null,
   "outputs": [],
   "source": [
    "condition_labels = pd.DataFrame(condition.toarray(),columns=vectorizer.get_feature_names_out())\n",
    "condition_labels"
   ],
   "metadata": {
    "collapsed": false,
    "pycharm": {
     "name": "#%%\n"
    }
   }
  },
  {
   "cell_type": "code",
   "execution_count": null,
   "outputs": [],
   "source": [
    "df.drop(columns='signed',inplace=True)\n",
    "df.drop(columns='condition',inplace=True)\n",
    "df.drop(columns='artist',inplace=True)"
   ],
   "metadata": {
    "collapsed": false,
    "pycharm": {
     "name": "#%%\n"
    }
   }
  },
  {
   "cell_type": "code",
   "execution_count": null,
   "outputs": [],
   "source": [
    "signed_labels = signed_labels.astype(int)\n",
    "condition_labels = condition_labels.astype(int)"
   ],
   "metadata": {
    "collapsed": false,
    "pycharm": {
     "name": "#%%\n"
    }
   }
  },
  {
   "cell_type": "code",
   "execution_count": null,
   "outputs": [],
   "source": [
    "df = df.join(condition_labels)"
   ],
   "metadata": {
    "collapsed": false,
    "pycharm": {
     "name": "#%%\n"
    }
   }
  },
  {
   "cell_type": "code",
   "execution_count": null,
   "outputs": [],
   "source": [
    "df"
   ],
   "metadata": {
    "collapsed": false,
    "pycharm": {
     "name": "#%%\n"
    }
   }
  },
  {
   "cell_type": "code",
   "execution_count": null,
   "outputs": [],
   "source": [
    "df = df.join(signed_labels,lsuffix=\"_left\", rsuffix=\"_right\", how='right')"
   ],
   "metadata": {
    "collapsed": false,
    "pycharm": {
     "name": "#%%\n"
    }
   }
  },
  {
   "cell_type": "code",
   "execution_count": null,
   "outputs": [],
   "source": [
    "df = df.drop(df.columns[[0, 1, 2,5]],axis = 1)"
   ],
   "metadata": {
    "collapsed": false,
    "pycharm": {
     "name": "#%%\n"
    }
   }
  },
  {
   "cell_type": "code",
   "execution_count": null,
   "outputs": [],
   "source": [
    "df"
   ],
   "metadata": {
    "collapsed": false,
    "pycharm": {
     "name": "#%%\n"
    }
   }
  },
  {
   "cell_type": "code",
   "execution_count": null,
   "outputs": [],
   "source": [
    "from sklearn.model_selection import train_test_split\n",
    "\n",
    "X = df.loc[:, ~df.columns.isin(['artist', 'title', 'signed','condition','title_left','price'])]\n",
    "Y = df[\"price\"]\n",
    "X_train, X_test, y_train, y_test = train_test_split(X, Y,test_size=0.2)"
   ],
   "metadata": {
    "collapsed": false,
    "pycharm": {
     "name": "#%%\n"
    }
   }
  },
  {
   "cell_type": "code",
   "execution_count": null,
   "outputs": [],
   "source": [
    "from sklearn.ensemble import RandomForestRegressor\n",
    "from sklearn.model_selection import GridSearchCV,\\\n",
    "RandomizedSearchCV\n",
    "\n",
    "def search_param():\n",
    "  param_grid = {\n",
    "      'n_estimators': [25, 50, 100, 150],\n",
    "      'max_features': ['sqrt', 'log2', None],\n",
    "      'max_depth': [10, 20, 30, 40],\n",
    "      'max_leaf_nodes': [2, 10, 20 , 25],\n",
    "  }\n",
    "\n",
    "\n",
    "  regr = GridSearchCV(RandomForestRegressor(),\n",
    "                            param_grid=param_grid)\n",
    "  regr.fit(X_train, y_train)\n",
    "  print(regr.best_estimator_)\n",
    "\n",
    "# search_param()\n"
   ],
   "metadata": {
    "collapsed": false,
    "pycharm": {
     "name": "#%%\n"
    }
   }
  },
  {
   "cell_type": "code",
   "execution_count": null,
   "outputs": [],
   "source": [
    "from sklearn.metrics import mean_absolute_error,mean_squared_error\n",
    "import numpy as np\n",
    "import statistics\n",
    "\n",
    "\n",
    "regr = RandomForestRegressor(max_depth=20, random_state=0)\n",
    "\n",
    "MAE_errors = []\n",
    "null_errors = []\n",
    "\n",
    "for i in range(1,11):\n",
    "  X_train, X_test, y_train, y_test = train_test_split(X, Y,test_size=0.2)\n",
    "\n",
    "  regr.fit(X_train,y_train)\n",
    "\n",
    "  importances = regr.feature_importances_\n",
    "  sorted_indices = np.argsort(importances)[::-1]\n",
    "\n",
    "  feat_labels = df.columns[1:]\n",
    "  print(y_test.mean())\n",
    "  null_error = mean_absolute_error(y_test,np.full((151,), y_test.mean()))\n",
    "  null_errors.append(null_error)\n",
    "  print(f\"Training Score trial {i}: \",regr.score(X_train,y_train))\n",
    "  print(f\"Testing Score trail {i}:\",regr.score(X_test,y_test))\n",
    "  MAE_error = mean_absolute_error(y_test,regr.predict(X_test))\n",
    "\n",
    "  print(f\"Testing Mean Absolute Error trail {i}: \", MAE_error)\n",
    "  MAE_errors.append(MAE_error)\n",
    "  for f in range(3):\n",
    "    print(\"%2d) %-*s %f\" % (f + 1, 5,\n",
    "                              feat_labels[sorted_indices[f]],\n",
    "                              importances[sorted_indices[f]]),\"index: \",df.columns.get_loc(str(feat_labels[sorted_indices[f]])))\n",
    "  print(\"\\n\")\n",
    "\n",
    "print(MAE_errors)\n",
    "print(\"MAE Error mean is \" + str(statistics.mean(MAE_errors)))\n",
    "print(\"MAE Error variance is \" + str(statistics.variance(MAE_errors)))\n",
    "print(\"\\n\")\n",
    "print(null_errors)\n",
    "print(\"Null Error mean using mean prediction is \" + str(statistics.mean(null_errors)))\n",
    "print(\"Null Error variance is \" + str(statistics.variance(null_errors)))"
   ],
   "metadata": {
    "collapsed": false,
    "pycharm": {
     "name": "#%%\n"
    }
   }
  },
  {
   "cell_type": "code",
   "execution_count": null,
   "outputs": [],
   "source": [
    "import scipy.stats\n",
    "import math \n",
    "z_score = (statistics.mean(MAE_errors)-statistics.mean(null_errors))/math.sqrt(statistics.variance(null_errors))\n",
    "p_val = scipy.stats.norm.sf(abs(z_score))\n",
    "print(p_val)"
   ],
   "metadata": {
    "collapsed": false,
    "pycharm": {
     "name": "#%%\n"
    }
   }
  },
  {
   "cell_type": "code",
   "execution_count": null,
   "outputs": [],
   "source": [
    "print(X.shape[1])"
   ],
   "metadata": {
    "collapsed": false,
    "pycharm": {
     "name": "#%%\n"
    }
   }
  },
  {
   "cell_type": "code",
   "execution_count": null,
   "outputs": [],
   "source": [
    "import matplotlib.pyplot as plt\n",
    "plt.plot(X['fame'],Y, 'ro')\n",
    "plt.ylabel('some numbers')\n",
    "plt.show()"
   ],
   "metadata": {
    "collapsed": false,
    "pycharm": {
     "name": "#%%\n"
    }
   }
  },
  {
   "cell_type": "code",
   "execution_count": null,
   "outputs": [],
   "source": [
    "import matplotlib.pyplot as plt\n",
    "plt.plot(X['occasional'],Y, 'ro')\n",
    "plt.ylabel('some numbers')\n",
    "plt.show()"
   ],
   "metadata": {
    "collapsed": false,
    "pycharm": {
     "name": "#%%\n"
    }
   }
  },
  {
   "cell_type": "code",
   "execution_count": null,
   "outputs": [],
   "source": [
    "import matplotlib.pyplot as plt\n",
    "plt.plot(X['yearCreation'],Y, 'ro')\n",
    "plt.ylabel('some numbers')\n",
    "plt.show()"
   ],
   "metadata": {
    "collapsed": false,
    "pycharm": {
     "name": "#%%\n"
    }
   }
  },
  {
   "cell_type": "code",
   "execution_count": null,
   "outputs": [],
   "source": [
    "import matplotlib.pyplot as plt\n",
    "plt.plot(X['Photorealism'],Y, 'ro')\n",
    "plt.ylabel('some numbers')\n",
    "plt.show()"
   ],
   "metadata": {
    "collapsed": false,
    "pycharm": {
     "name": "#%%\n"
    }
   }
  }
 ],
 "metadata": {
  "colab": {
   "provenance": []
  },
  "kernelspec": {
   "display_name": "Python 3 (ipykernel)",
   "language": "python",
   "name": "python3"
  },
  "language_info": {
   "codemirror_mode": {
    "name": "ipython",
    "version": 3
   },
   "file_extension": ".py",
   "mimetype": "text/x-python",
   "name": "python",
   "nbconvert_exporter": "python",
   "pygments_lexer": "ipython3",
   "version": "3.7.13"
  }
 },
 "nbformat": 4,
 "nbformat_minor": 0
}