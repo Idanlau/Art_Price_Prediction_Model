{
 "cells": [
  {
   "cell_type": "code",
   "execution_count": 28,
   "metadata": {
    "id": "i2XowZIGqbzr",
    "pycharm": {
     "name": "#%%\n"
    }
   },
   "outputs": [],
   "source": [
    "import pandas as pd"
   ]
  },
  {
   "cell_type": "code",
   "execution_count": 29,
   "metadata": {
    "colab": {
     "base_uri": "https://localhost:8080/",
     "height": 659
    },
    "id": "9xa3x1skrSj0",
    "outputId": "b105068e-6bc2-4d10-f80b-6580178b72ff",
    "pycharm": {
     "name": "#%%\n"
    }
   },
   "outputs": [
    {
     "data": {
      "text/plain": "     Unnamed: 0.2  Unnamed: 0.1  Unnamed: 0       price  \\\n0               0             0           0  28.500 USD   \n1               1             1           1   3.000 USD   \n2               2             2           2   5.000 USD   \n3               3             3           3   5.000 USD   \n4               4             4           4   2.500 USD   \n..            ...           ...         ...         ...   \n749           749           749         749     680 USD   \n750           750           750         750   1.275 USD   \n751           751           751         751     680 USD   \n752           752           752         752   1.275 USD   \n753           753           753         753     680 USD   \n\n                       artist  fame                  title  \\\n0             Tommaso Ottieri   0.0         Bayreuth Opera   \n1           Pavel Tchelitchew   0.0  Drawings of the Opera   \n2                   Leo Gabin  98.0        Two on Sidewalk   \n3           Matthias Dornfeld  88.0            Blumenszene   \n4    Alexis Marguerite Teplin   0.0   Feverish Embarkation   \n..                        ...   ...                    ...   \n749                 Jane Kent   0.0       Miracle Grow #17   \n750                Gary Bower   0.0           Rolph Series   \n751                 Jane Kent   0.0               Untitled   \n752              T. L. Solien   0.0                Juniper   \n753                 John Duff   0.0         Untitled Print   \n\n                 yearCreation  \\\n0                        2021   \n1    First Half 20th Century    \n2                        2016   \n3                        2010   \n4                        2001   \n..                        ...   \n749                      2012   \n750                      1970   \n751                      2012   \n752                      1986   \n753                      1975   \n\n                                                signed  \\\n0                                      Signed on verso   \n1                                    Signed and titled   \n2                    Signed, titled and dated on verso   \n3    Signed, titled and dated on the reverse with t...   \n4                                      Signed on verso   \n..                                                 ...   \n749                   Signed and dated on lower right.   \n750                                              [nan]   \n751                                              [nan]   \n752                                              [nan]   \n753              Signed, dated and numbered in pencil.   \n\n                                             condition        period  \\\n0                 This work is in excellent condition.  Contemporary   \n1    Not examined out of frame.No obvious signs of ...      Post-War   \n2                 This work is in excellent condition.  Contemporary   \n3    This work is in excellent condition.There is m...  Contemporary   \n4                 This work is in excellent condition.  Contemporary   \n..                                                 ...           ...   \n749  Not examined out of frame.No obvious signs of ...  Contemporary   \n750  Not examined out of frame.Significant undulati...  Contemporary   \n751  Not examined out of frame.No apparent imperfec...  Contemporary   \n752  Not examined outside of frame.Pinholes at edge...  Contemporary   \n753  Not examined out of frame.Scattered surface sc...        Modern   \n\n                  movement  \n0                  Baroque  \n1               Surrealism  \n2                 Abstract  \n3                 Abstract  \n4                 Abstract  \n..                     ...  \n749               Abstract  \n750  Geometric Abstraction  \n751  Geometric Abstraction  \n752               Abstract  \n753  Geometric Abstraction  \n\n[754 rows x 12 columns]",
      "text/html": "<div>\n<style scoped>\n    .dataframe tbody tr th:only-of-type {\n        vertical-align: middle;\n    }\n\n    .dataframe tbody tr th {\n        vertical-align: top;\n    }\n\n    .dataframe thead th {\n        text-align: right;\n    }\n</style>\n<table border=\"1\" class=\"dataframe\">\n  <thead>\n    <tr style=\"text-align: right;\">\n      <th></th>\n      <th>Unnamed: 0.2</th>\n      <th>Unnamed: 0.1</th>\n      <th>Unnamed: 0</th>\n      <th>price</th>\n      <th>artist</th>\n      <th>fame</th>\n      <th>title</th>\n      <th>yearCreation</th>\n      <th>signed</th>\n      <th>condition</th>\n      <th>period</th>\n      <th>movement</th>\n    </tr>\n  </thead>\n  <tbody>\n    <tr>\n      <th>0</th>\n      <td>0</td>\n      <td>0</td>\n      <td>0</td>\n      <td>28.500 USD</td>\n      <td>Tommaso Ottieri</td>\n      <td>0.0</td>\n      <td>Bayreuth Opera</td>\n      <td>2021</td>\n      <td>Signed on verso</td>\n      <td>This work is in excellent condition.</td>\n      <td>Contemporary</td>\n      <td>Baroque</td>\n    </tr>\n    <tr>\n      <th>1</th>\n      <td>1</td>\n      <td>1</td>\n      <td>1</td>\n      <td>3.000 USD</td>\n      <td>Pavel Tchelitchew</td>\n      <td>0.0</td>\n      <td>Drawings of the Opera</td>\n      <td>First Half 20th Century</td>\n      <td>Signed and titled</td>\n      <td>Not examined out of frame.No obvious signs of ...</td>\n      <td>Post-War</td>\n      <td>Surrealism</td>\n    </tr>\n    <tr>\n      <th>2</th>\n      <td>2</td>\n      <td>2</td>\n      <td>2</td>\n      <td>5.000 USD</td>\n      <td>Leo Gabin</td>\n      <td>98.0</td>\n      <td>Two on Sidewalk</td>\n      <td>2016</td>\n      <td>Signed, titled and dated on verso</td>\n      <td>This work is in excellent condition.</td>\n      <td>Contemporary</td>\n      <td>Abstract</td>\n    </tr>\n    <tr>\n      <th>3</th>\n      <td>3</td>\n      <td>3</td>\n      <td>3</td>\n      <td>5.000 USD</td>\n      <td>Matthias Dornfeld</td>\n      <td>88.0</td>\n      <td>Blumenszene</td>\n      <td>2010</td>\n      <td>Signed, titled and dated on the reverse with t...</td>\n      <td>This work is in excellent condition.There is m...</td>\n      <td>Contemporary</td>\n      <td>Abstract</td>\n    </tr>\n    <tr>\n      <th>4</th>\n      <td>4</td>\n      <td>4</td>\n      <td>4</td>\n      <td>2.500 USD</td>\n      <td>Alexis Marguerite Teplin</td>\n      <td>0.0</td>\n      <td>Feverish Embarkation</td>\n      <td>2001</td>\n      <td>Signed on verso</td>\n      <td>This work is in excellent condition.</td>\n      <td>Contemporary</td>\n      <td>Abstract</td>\n    </tr>\n    <tr>\n      <th>...</th>\n      <td>...</td>\n      <td>...</td>\n      <td>...</td>\n      <td>...</td>\n      <td>...</td>\n      <td>...</td>\n      <td>...</td>\n      <td>...</td>\n      <td>...</td>\n      <td>...</td>\n      <td>...</td>\n      <td>...</td>\n    </tr>\n    <tr>\n      <th>749</th>\n      <td>749</td>\n      <td>749</td>\n      <td>749</td>\n      <td>680 USD</td>\n      <td>Jane Kent</td>\n      <td>0.0</td>\n      <td>Miracle Grow #17</td>\n      <td>2012</td>\n      <td>Signed and dated on lower right.</td>\n      <td>Not examined out of frame.No obvious signs of ...</td>\n      <td>Contemporary</td>\n      <td>Abstract</td>\n    </tr>\n    <tr>\n      <th>750</th>\n      <td>750</td>\n      <td>750</td>\n      <td>750</td>\n      <td>1.275 USD</td>\n      <td>Gary Bower</td>\n      <td>0.0</td>\n      <td>Rolph Series</td>\n      <td>1970</td>\n      <td>[nan]</td>\n      <td>Not examined out of frame.Significant undulati...</td>\n      <td>Contemporary</td>\n      <td>Geometric Abstraction</td>\n    </tr>\n    <tr>\n      <th>751</th>\n      <td>751</td>\n      <td>751</td>\n      <td>751</td>\n      <td>680 USD</td>\n      <td>Jane Kent</td>\n      <td>0.0</td>\n      <td>Untitled</td>\n      <td>2012</td>\n      <td>[nan]</td>\n      <td>Not examined out of frame.No apparent imperfec...</td>\n      <td>Contemporary</td>\n      <td>Geometric Abstraction</td>\n    </tr>\n    <tr>\n      <th>752</th>\n      <td>752</td>\n      <td>752</td>\n      <td>752</td>\n      <td>1.275 USD</td>\n      <td>T. L. Solien</td>\n      <td>0.0</td>\n      <td>Juniper</td>\n      <td>1986</td>\n      <td>[nan]</td>\n      <td>Not examined outside of frame.Pinholes at edge...</td>\n      <td>Contemporary</td>\n      <td>Abstract</td>\n    </tr>\n    <tr>\n      <th>753</th>\n      <td>753</td>\n      <td>753</td>\n      <td>753</td>\n      <td>680 USD</td>\n      <td>John Duff</td>\n      <td>0.0</td>\n      <td>Untitled Print</td>\n      <td>1975</td>\n      <td>Signed, dated and numbered in pencil.</td>\n      <td>Not examined out of frame.Scattered surface sc...</td>\n      <td>Modern</td>\n      <td>Geometric Abstraction</td>\n    </tr>\n  </tbody>\n</table>\n<p>754 rows × 12 columns</p>\n</div>"
     },
     "execution_count": 29,
     "metadata": {},
     "output_type": "execute_result"
    }
   ],
   "source": [
    "df = pd.read_csv(\"https://raw.githubusercontent.com/Idanlau/Cloudera_Hackathon/Word-Encoding/artist_fame.csv\")\n",
    "df"
   ]
  },
  {
   "cell_type": "code",
   "execution_count": 30,
   "metadata": {
    "pycharm": {
     "name": "#%%\n"
    }
   },
   "outputs": [],
   "source": [
    "movement_df = pd.get_dummies(df['movement'])\n",
    "period_df = pd.get_dummies(df['period'])\n",
    "movement_df.drop(columns='[nan]',inplace=True)\n",
    "period_df.drop(columns='[nan]',inplace=True)"
   ]
  },
  {
   "cell_type": "code",
   "execution_count": 31,
   "metadata": {
    "pycharm": {
     "name": "#%%\n"
    }
   },
   "outputs": [],
   "source": [
    "df.drop(columns='movement',inplace=True)\n",
    "df.drop(columns='period',inplace=True)"
   ]
  },
  {
   "cell_type": "code",
   "execution_count": 32,
   "metadata": {
    "pycharm": {
     "name": "#%%\n"
    }
   },
   "outputs": [],
   "source": [
    "df = df.join(movement_df)"
   ]
  },
  {
   "cell_type": "code",
   "execution_count": 33,
   "metadata": {
    "pycharm": {
     "name": "#%%\n"
    }
   },
   "outputs": [],
   "source": [
    "df = df.join(period_df)"
   ]
  },
  {
   "cell_type": "code",
   "execution_count": 34,
   "metadata": {
    "pycharm": {
     "name": "#%%\n"
    }
   },
   "outputs": [
    {
     "data": {
      "text/plain": "     Unnamed: 0.2  Unnamed: 0.1  Unnamed: 0       price  \\\n0               0             0           0  28.500 USD   \n1               1             1           1   3.000 USD   \n2               2             2           2   5.000 USD   \n3               3             3           3   5.000 USD   \n4               4             4           4   2.500 USD   \n..            ...           ...         ...         ...   \n749           749           749         749     680 USD   \n750           750           750         750   1.275 USD   \n751           751           751         751     680 USD   \n752           752           752         752   1.275 USD   \n753           753           753         753     680 USD   \n\n                       artist  fame                  title  \\\n0             Tommaso Ottieri   0.0         Bayreuth Opera   \n1           Pavel Tchelitchew   0.0  Drawings of the Opera   \n2                   Leo Gabin  98.0        Two on Sidewalk   \n3           Matthias Dornfeld  88.0            Blumenszene   \n4    Alexis Marguerite Teplin   0.0   Feverish Embarkation   \n..                        ...   ...                    ...   \n749                 Jane Kent   0.0       Miracle Grow #17   \n750                Gary Bower   0.0           Rolph Series   \n751                 Jane Kent   0.0               Untitled   \n752              T. L. Solien   0.0                Juniper   \n753                 John Duff   0.0         Untitled Print   \n\n                 yearCreation  \\\n0                        2021   \n1    First Half 20th Century    \n2                        2016   \n3                        2010   \n4                        2001   \n..                        ...   \n749                      2012   \n750                      1970   \n751                      2012   \n752                      1986   \n753                      1975   \n\n                                                signed  \\\n0                                      Signed on verso   \n1                                    Signed and titled   \n2                    Signed, titled and dated on verso   \n3    Signed, titled and dated on the reverse with t...   \n4                                      Signed on verso   \n..                                                 ...   \n749                   Signed and dated on lower right.   \n750                                              [nan]   \n751                                              [nan]   \n752                                              [nan]   \n753              Signed, dated and numbered in pencil.   \n\n                                             condition  ...  Realism  \\\n0                 This work is in excellent condition.  ...        0   \n1    Not examined out of frame.No obvious signs of ...  ...        0   \n2                 This work is in excellent condition.  ...        0   \n3    This work is in excellent condition.There is m...  ...        0   \n4                 This work is in excellent condition.  ...        0   \n..                                                 ...  ...      ...   \n749  Not examined out of frame.No obvious signs of ...  ...        0   \n750  Not examined out of frame.Significant undulati...  ...        0   \n751  Not examined out of frame.No apparent imperfec...  ...        0   \n752  Not examined outside of frame.Pinholes at edge...  ...        0   \n753  Not examined out of frame.Scattered surface sc...  ...        0   \n\n     Romanticism  Social Realism  Street Art  Surrealism  Traditional  \\\n0              0               0           0           0            0   \n1              0               0           0           1            0   \n2              0               0           0           0            0   \n3              0               0           0           0            0   \n4              0               0           0           0            0   \n..           ...             ...         ...         ...          ...   \n749            0               0           0           0            0   \n750            0               0           0           0            0   \n751            0               0           0           0            0   \n752            0               0           0           0            0   \n753            0               0           0           0            0   \n\n     19th Century  Contemporary  Modern  Post-War  \n0               0             1       0         0  \n1               0             0       0         1  \n2               0             1       0         0  \n3               0             1       0         0  \n4               0             1       0         0  \n..            ...           ...     ...       ...  \n749             0             1       0         0  \n750             0             1       0         0  \n751             0             1       0         0  \n752             0             1       0         0  \n753             0             0       1         0  \n\n[754 rows x 47 columns]",
      "text/html": "<div>\n<style scoped>\n    .dataframe tbody tr th:only-of-type {\n        vertical-align: middle;\n    }\n\n    .dataframe tbody tr th {\n        vertical-align: top;\n    }\n\n    .dataframe thead th {\n        text-align: right;\n    }\n</style>\n<table border=\"1\" class=\"dataframe\">\n  <thead>\n    <tr style=\"text-align: right;\">\n      <th></th>\n      <th>Unnamed: 0.2</th>\n      <th>Unnamed: 0.1</th>\n      <th>Unnamed: 0</th>\n      <th>price</th>\n      <th>artist</th>\n      <th>fame</th>\n      <th>title</th>\n      <th>yearCreation</th>\n      <th>signed</th>\n      <th>condition</th>\n      <th>...</th>\n      <th>Realism</th>\n      <th>Romanticism</th>\n      <th>Social Realism</th>\n      <th>Street Art</th>\n      <th>Surrealism</th>\n      <th>Traditional</th>\n      <th>19th Century</th>\n      <th>Contemporary</th>\n      <th>Modern</th>\n      <th>Post-War</th>\n    </tr>\n  </thead>\n  <tbody>\n    <tr>\n      <th>0</th>\n      <td>0</td>\n      <td>0</td>\n      <td>0</td>\n      <td>28.500 USD</td>\n      <td>Tommaso Ottieri</td>\n      <td>0.0</td>\n      <td>Bayreuth Opera</td>\n      <td>2021</td>\n      <td>Signed on verso</td>\n      <td>This work is in excellent condition.</td>\n      <td>...</td>\n      <td>0</td>\n      <td>0</td>\n      <td>0</td>\n      <td>0</td>\n      <td>0</td>\n      <td>0</td>\n      <td>0</td>\n      <td>1</td>\n      <td>0</td>\n      <td>0</td>\n    </tr>\n    <tr>\n      <th>1</th>\n      <td>1</td>\n      <td>1</td>\n      <td>1</td>\n      <td>3.000 USD</td>\n      <td>Pavel Tchelitchew</td>\n      <td>0.0</td>\n      <td>Drawings of the Opera</td>\n      <td>First Half 20th Century</td>\n      <td>Signed and titled</td>\n      <td>Not examined out of frame.No obvious signs of ...</td>\n      <td>...</td>\n      <td>0</td>\n      <td>0</td>\n      <td>0</td>\n      <td>0</td>\n      <td>1</td>\n      <td>0</td>\n      <td>0</td>\n      <td>0</td>\n      <td>0</td>\n      <td>1</td>\n    </tr>\n    <tr>\n      <th>2</th>\n      <td>2</td>\n      <td>2</td>\n      <td>2</td>\n      <td>5.000 USD</td>\n      <td>Leo Gabin</td>\n      <td>98.0</td>\n      <td>Two on Sidewalk</td>\n      <td>2016</td>\n      <td>Signed, titled and dated on verso</td>\n      <td>This work is in excellent condition.</td>\n      <td>...</td>\n      <td>0</td>\n      <td>0</td>\n      <td>0</td>\n      <td>0</td>\n      <td>0</td>\n      <td>0</td>\n      <td>0</td>\n      <td>1</td>\n      <td>0</td>\n      <td>0</td>\n    </tr>\n    <tr>\n      <th>3</th>\n      <td>3</td>\n      <td>3</td>\n      <td>3</td>\n      <td>5.000 USD</td>\n      <td>Matthias Dornfeld</td>\n      <td>88.0</td>\n      <td>Blumenszene</td>\n      <td>2010</td>\n      <td>Signed, titled and dated on the reverse with t...</td>\n      <td>This work is in excellent condition.There is m...</td>\n      <td>...</td>\n      <td>0</td>\n      <td>0</td>\n      <td>0</td>\n      <td>0</td>\n      <td>0</td>\n      <td>0</td>\n      <td>0</td>\n      <td>1</td>\n      <td>0</td>\n      <td>0</td>\n    </tr>\n    <tr>\n      <th>4</th>\n      <td>4</td>\n      <td>4</td>\n      <td>4</td>\n      <td>2.500 USD</td>\n      <td>Alexis Marguerite Teplin</td>\n      <td>0.0</td>\n      <td>Feverish Embarkation</td>\n      <td>2001</td>\n      <td>Signed on verso</td>\n      <td>This work is in excellent condition.</td>\n      <td>...</td>\n      <td>0</td>\n      <td>0</td>\n      <td>0</td>\n      <td>0</td>\n      <td>0</td>\n      <td>0</td>\n      <td>0</td>\n      <td>1</td>\n      <td>0</td>\n      <td>0</td>\n    </tr>\n    <tr>\n      <th>...</th>\n      <td>...</td>\n      <td>...</td>\n      <td>...</td>\n      <td>...</td>\n      <td>...</td>\n      <td>...</td>\n      <td>...</td>\n      <td>...</td>\n      <td>...</td>\n      <td>...</td>\n      <td>...</td>\n      <td>...</td>\n      <td>...</td>\n      <td>...</td>\n      <td>...</td>\n      <td>...</td>\n      <td>...</td>\n      <td>...</td>\n      <td>...</td>\n      <td>...</td>\n      <td>...</td>\n    </tr>\n    <tr>\n      <th>749</th>\n      <td>749</td>\n      <td>749</td>\n      <td>749</td>\n      <td>680 USD</td>\n      <td>Jane Kent</td>\n      <td>0.0</td>\n      <td>Miracle Grow #17</td>\n      <td>2012</td>\n      <td>Signed and dated on lower right.</td>\n      <td>Not examined out of frame.No obvious signs of ...</td>\n      <td>...</td>\n      <td>0</td>\n      <td>0</td>\n      <td>0</td>\n      <td>0</td>\n      <td>0</td>\n      <td>0</td>\n      <td>0</td>\n      <td>1</td>\n      <td>0</td>\n      <td>0</td>\n    </tr>\n    <tr>\n      <th>750</th>\n      <td>750</td>\n      <td>750</td>\n      <td>750</td>\n      <td>1.275 USD</td>\n      <td>Gary Bower</td>\n      <td>0.0</td>\n      <td>Rolph Series</td>\n      <td>1970</td>\n      <td>[nan]</td>\n      <td>Not examined out of frame.Significant undulati...</td>\n      <td>...</td>\n      <td>0</td>\n      <td>0</td>\n      <td>0</td>\n      <td>0</td>\n      <td>0</td>\n      <td>0</td>\n      <td>0</td>\n      <td>1</td>\n      <td>0</td>\n      <td>0</td>\n    </tr>\n    <tr>\n      <th>751</th>\n      <td>751</td>\n      <td>751</td>\n      <td>751</td>\n      <td>680 USD</td>\n      <td>Jane Kent</td>\n      <td>0.0</td>\n      <td>Untitled</td>\n      <td>2012</td>\n      <td>[nan]</td>\n      <td>Not examined out of frame.No apparent imperfec...</td>\n      <td>...</td>\n      <td>0</td>\n      <td>0</td>\n      <td>0</td>\n      <td>0</td>\n      <td>0</td>\n      <td>0</td>\n      <td>0</td>\n      <td>1</td>\n      <td>0</td>\n      <td>0</td>\n    </tr>\n    <tr>\n      <th>752</th>\n      <td>752</td>\n      <td>752</td>\n      <td>752</td>\n      <td>1.275 USD</td>\n      <td>T. L. Solien</td>\n      <td>0.0</td>\n      <td>Juniper</td>\n      <td>1986</td>\n      <td>[nan]</td>\n      <td>Not examined outside of frame.Pinholes at edge...</td>\n      <td>...</td>\n      <td>0</td>\n      <td>0</td>\n      <td>0</td>\n      <td>0</td>\n      <td>0</td>\n      <td>0</td>\n      <td>0</td>\n      <td>1</td>\n      <td>0</td>\n      <td>0</td>\n    </tr>\n    <tr>\n      <th>753</th>\n      <td>753</td>\n      <td>753</td>\n      <td>753</td>\n      <td>680 USD</td>\n      <td>John Duff</td>\n      <td>0.0</td>\n      <td>Untitled Print</td>\n      <td>1975</td>\n      <td>Signed, dated and numbered in pencil.</td>\n      <td>Not examined out of frame.Scattered surface sc...</td>\n      <td>...</td>\n      <td>0</td>\n      <td>0</td>\n      <td>0</td>\n      <td>0</td>\n      <td>0</td>\n      <td>0</td>\n      <td>0</td>\n      <td>0</td>\n      <td>1</td>\n      <td>0</td>\n    </tr>\n  </tbody>\n</table>\n<p>754 rows × 47 columns</p>\n</div>"
     },
     "execution_count": 34,
     "metadata": {},
     "output_type": "execute_result"
    }
   ],
   "source": [
    "df"
   ]
  },
  {
   "cell_type": "code",
   "execution_count": 35,
   "metadata": {
    "pycharm": {
     "name": "#%%\n"
    }
   },
   "outputs": [
    {
     "data": {
      "text/plain": "0      2021.0\n1      1993.0\n2      2016.0\n3      2010.0\n4      2001.0\n        ...  \n749    2012.0\n750    1970.0\n751    2012.0\n752    1986.0\n753    1975.0\nName: yearCreation, Length: 754, dtype: float64"
     },
     "execution_count": 35,
     "metadata": {},
     "output_type": "execute_result"
    }
   ],
   "source": [
    "df['yearCreation'] = pd.to_numeric(df['yearCreation'],errors = \"coerce\")\n",
    "nan_count = df['yearCreation'].isna().sum().sum()\n",
    "#print(nan_count) #104/753 = around 13.8 percent of data missing for years!\n",
    "df['yearCreation'] = df['yearCreation'].fillna(df['yearCreation'].median()) #Fill it with the median, any better approaches?\n",
    "df['yearCreation']"
   ]
  },
  {
   "cell_type": "code",
   "execution_count": 36,
   "metadata": {
    "colab": {
     "base_uri": "https://localhost:8080/"
    },
    "id": "ppF2MJetBIzM",
    "outputId": "2146a8c0-9611-4155-8111-847786cb9856",
    "pycharm": {
     "name": "#%%\n"
    }
   },
   "outputs": [
    {
     "name": "stderr",
     "output_type": "stream",
     "text": [
      "/var/folders/_j/lc_20b6d1tn10fgp59jck83h0000gn/T/ipykernel_83911/1206584254.py:2: FutureWarning: The default value of regex will change from True to False in a future version. In addition, single character regular expressions will *not* be treated as literal strings when regex=True.\n",
      "  df['price'] = df['price'].str.replace(\".\",\"\")\n"
     ]
    },
    {
     "data": {
      "text/plain": "0      28500\n1       3000\n2       5000\n3       5000\n4       2500\n       ...  \n749      680\n750     1275\n751      680\n752     1275\n753      680\nName: price, Length: 754, dtype: int64"
     },
     "execution_count": 36,
     "metadata": {},
     "output_type": "execute_result"
    }
   ],
   "source": [
    "df['price'] = df['price'].str.replace(\"USD\",\"\") #Dropping the USD string so its just numbers\n",
    "df['price'] = df['price'].str.replace(\".\",\"\")\n",
    "df['price'] = pd.to_numeric(df['price'])\n",
    "df['price']"
   ]
  },
  {
   "cell_type": "code",
   "execution_count": 37,
   "metadata": {
    "pycharm": {
     "name": "#%%\n"
    }
   },
   "outputs": [
    {
     "data": {
      "text/plain": "<754x747 sparse matrix of type '<class 'numpy.int64'>'\n\twith 10768 stored elements in Compressed Sparse Row format>"
     },
     "execution_count": 37,
     "metadata": {},
     "output_type": "execute_result"
    }
   ],
   "source": [
    "from sklearn.feature_extraction.text import CountVectorizer\n",
    "vectorizer = CountVectorizer()\n",
    "condition = vectorizer.fit_transform(df['condition'])\n",
    "condition"
   ]
  },
  {
   "cell_type": "code",
   "execution_count": 19,
   "metadata": {
    "pycharm": {
     "name": "#%%\n"
    }
   },
   "outputs": [
    {
     "data": {
      "text/plain": "array(['005', '10', '1143', '1200', '124', '15', '170', '1940', '200',\n       '25619', '27', '307', '40', '44', '4500', '63', '635', '6c13m',\n       '89', '900', 'above', 'abraded', 'abrasion', 'abrasions',\n       'accretion', 'accretions', 'across', 'additional', 'address',\n       'adhered', 'adherence', 'adhesions', 'adhesive', 'affixed',\n       'aforementioned', 'age', 'agfa', 'alexander', 'all', 'along',\n       'although', 'an', 'and', 'annotated', 'another', 'anything', 'aoz',\n       'apart', 'apparent', 'appear', 'appearance', 'appears',\n       'application', 'appropriately', 'approximately', 'are', 'area',\n       'areas', 'arm', 'around', 'art', 'artist', 'artminor', 'artwork',\n       'as', 'aside', 'associated', 'at', 'attached', 'attributable',\n       'away', 'b625', 'back', 'background', 'backing', 'bar', 'barbara',\n       'be', 'been', 'bend', 'bernhard', 'between', 'black', 'blemish',\n       'blind', 'blue', 'board', 'bois', 'book', 'both', 'bottom', 'bow',\n       'bowed', 'bowing', 'box', 'break', 'bright', 'brown', 'buckling',\n       'bumped', 'burn', 'but', 'by', 'cannot', 'canvas', 'card', 'care',\n       'catalogue', 'caused', 'center', 'central', 'chip', 'chipping',\n       'chips', 'chosen', 'chromogenic', 'cibachrome', 'circa',\n       'circular', 'clamshell', 'clean', 'cleaning', 'close', 'closely',\n       'cloth', 'cloudy', 'coat', 'collage', 'collection', 'color',\n       'colored', 'colors', 'comb', 'come', 'commensurate', 'components',\n       'composed', 'composition', 'compound', 'concentrated', 'condition',\n       'conservation', 'consistent', 'contact', 'continuing', 'corner',\n       'corners', 'corresponding', 'covered', 'covers', 'crack',\n       'cracked', 'cracking', 'cracks', 'craquelure', 'crayon', 'crease',\n       'creased', 'creases', 'creasing', 'crescent', 'cropped', 'crosses',\n       'current', 'curving', 'damage', 'darkened', 'darkening', 'darker',\n       'darkest', 'dated', 'decked', 'defects', 'dent', 'dents',\n       'depending', 'deposit', 'deposits', 'designs', 'detected',\n       'detract', 'developed', 'diagonal', 'did', 'dinged', 'direct',\n       'dirt', 'dirty', 'discoloration', 'discolored', 'disruptions',\n       'distortions', 'dm', 'do', 'does', 'dot', 'double', 'down',\n       'drawing', 'drawings', 'dress', 'drip', 'drips', 'droplets', 'dry',\n       'du', 'due', 'dull', 'during', 'dust', 'each', 'earlier', 'early',\n       'edge', 'edges', 'editioned', 'effect', 'eggshell', 'elbow',\n       'electrical', 'employee', 'emulsion', 'evidence', 'examination',\n       'examined', 'examples', 'excellent', 'except', 'excess', 'exposed',\n       'extending', 'extreme', 'fabric', 'fading', 'faint', 'faintly',\n       'far', 'ferrotyped', 'festival', 'few', 'figure', 'filling',\n       'fine', 'fingerprints', 'finish', 'fitted', 'flattened', 'floral',\n       'fluoresce', 'flush', 'fold', 'following', 'for', 'forehead',\n       'formation', 'former', 'four', 'foxing', 'frame', 'framed',\n       'frames', 'framing', 'fraying', 'fresh', 'from', 'front',\n       'functional', 'further', 'gelatin', 'generally', 'gently',\n       'gilding', 'gilt', 'ginny', 'glass', 'glazing', 'glossy', 'gold',\n       'good', 'gouache', 'gouge', 'gouges', 'graham', 'graphite',\n       'grassi', 'gray', 'green', 'greens', 'guidelines', 'haas', 'hair',\n       'hairline', 'half', 'hand', 'handling', 'hands', 'hang', 'hanging',\n       'hardening', 'hardware', 'has', 'hat', 'have', 'her', 'high',\n       'hindquarters', 'hinge', 'hinged', 'hinges', 'hole', 'holes',\n       'horizontal', 'horse', 'however', 'hung', 'illustration', 'image',\n       'immediately', 'impasto', 'imperfection', 'imperfections',\n       'impressions', 'in', 'inc', 'inch', 'inches', 'including',\n       'inconsistencies', 'indentation', 'indentations', 'independent',\n       'inherent', 'ink', 'inked', 'inpainting', 'inscription',\n       'inscriptions', 'inside', 'inspected', 'inspection',\n       'interconnected', 'is', 'isolated', 'issued', 'it', 'its', 'joint',\n       'label', 'laminate', 'large', 'largest', 'layer', 'layers',\n       'leather', 'left', 'length', 'light', 'lightly', 'likely', 'line',\n       'linear', 'lined', 'lines', 'lining', 'liquid', 'long', 'longest',\n       'loose', 'loss', 'losses', 'lower', 'lush', 'made', 'man', 'map',\n       'marco', 'margin', 'margins', 'mark', 'marked', 'marker',\n       'markings', 'marks', 'martha', 'mat', 'material', 'materials',\n       'matt', 'matte', 'matting', 'may', 'measure', 'measures',\n       'measuring', 'media', 'mended', 'metal', 'middle', 'mild',\n       'milieu', 'minimal', 'minor', 'misaligned', 'missing', 'miter',\n       'mitered', 'mixed', 'moderate', 'more', 'morgan', 'most', 'motifs',\n       'mottled', 'mount', 'mounted', 'mounting', 'mounts', 'nan',\n       'natural', 'nature', 'near', 'nearly', 'network', 'new', 'nick',\n       'nicks', 'no', 'none', 'nor', 'not', 'notations', 'note',\n       'noticeable', 'numerical', 'numerous', 'observations', 'observed',\n       'obvious', 'occasional', 'of', 'off', 'offered', 'oil', 'old',\n       'on', 'one', 'online', 'only', 'or', 'original', 'ornament',\n       'other', 'otherwise', 'out', 'outer', 'outside', 'overall',\n       'overmat', 'oxidation', 'p74', 'paint', 'painting', 'pale',\n       'paper', 'parallel', 'parkes', 'part', 'peeling', 'pencil',\n       'pendant', 'pene', 'perimeter', 'periphery', 'photo', 'photograph',\n       'photographed', 'photographer', 'picture', 'piece', 'pieces',\n       'pigment', 'pigments', 'pin', 'pindots', 'pinhole', 'pinholes',\n       'pitting', 'please', 'plexiglas', 'plexiglass', 'ply', 'plywood',\n       'poor', 'portfolio', 'possible', 'possibly', 'post',\n       'predominately', 'presented', 'previous', 'previously',\n       'primarily', 'print', 'printed', 'printing', 'prints', 'procedure',\n       'process', 'processing', 'prominently', 'pronounced', 'proper',\n       'property', 'provided', 'publisher', 'puncture', 'quadrant',\n       'quality', 'quite', 'raking', 'rb021', 'rb062', 'rb124', 'rb138',\n       'rb147', 'rb246', 'read', 'reads', 'ready', 'register', 'relined',\n       'remain', 'remnants', 'repaired', 'report', 'reproduction',\n       'residue', 'resting', 'restoration', 'restored', 'restorer',\n       'result', 'retains', 'retouch', 'retouched', 'retouches',\n       'retouching', 'reveal', 'reverse', 'rich', 'right', 'ripple',\n       'rippled', 'rippling', 'rock', 'rubbing', 'rust', 'ruth', 'saddle',\n       'same', 'saturated', 'satyric', 'scattered', 'scrape', 'scrapes',\n       'scratch', 'scratched', 'scratches', 'scratching', 'screen',\n       'screenprints', 'scuff', 'scuffed', 'scuffs', 'seam', 'seams',\n       'secondary', 'secured', 'semi', 'separation', 'settings',\n       'several', 'shades', 'shadow', 'shallow', 'shaped', 'sharp',\n       'sheen', 'sheet', 'should', 'shoulder', 'show', 'shows', 'side',\n       'sides', 'sign', 'signature', 'signed', 'significant', 'signs',\n       'silver', 'silvering', 'similar', 'simon', 'since', 'size', 'sky',\n       'sleeve', 'slight', 'slightly', 'slipped', 'slipping', 'small',\n       'smudge', 'smudges', 'soft', 'soiled', 'soiling', 'solarized',\n       'some', 'somewhat', 'son', 'song', 'sotheby', 'sound', 'sp',\n       'spot', 'spots', 'spotting', 'stable', 'stain', 'staining',\n       'stains', 'stamp', 'stapled', 'state', 'sticky', 'stretcher',\n       'stretchers', 'string', 'strongly', 'structurally', 'studio',\n       'subway', 'suggest', 'suggesting', 'superficial', 'support',\n       'surface', 'surrounding', 'tablecloth', 'tacked', 'tacky', 'tape',\n       'taped', 'tear', 'tears', 'tenting', 'that', 'the', 'there',\n       'these', 'they', 'thick', 'thin', 'this', 'three', 'through',\n       'throughout', 'tiny', 'tissue', 'titled', 'to', 'together',\n       'toned', 'toning', 'top', 'torn', 'total', 'translucent',\n       'transparency', 'tree', 'trimmed', 'trunk', 'two', 'ultraviolet',\n       'unaffixed', 'under', 'undualtion', 'undulation', 'undulations',\n       'uneven', 'unframed', 'unidentified', 'unique', 'unlined',\n       'unpainted', 'unusual', 'up', 'upon', 'upper', 'upward', 'use',\n       'used', 'using', 'uv', 'varnish', 'varnished', 'vary', 'verso',\n       'vertical', 'very', 'vibrant', 'visible', 'warm', 'warping', 'was',\n       'water', 'watercolor', 'wax', 'wear', 'weight', 'well', 'when',\n       'where', 'which', 'while', 'white', 'who', 'width', 'will',\n       'williams', 'window', 'wire', 'with', 'within', 'wood', 'work',\n       'working', 'works', 'worn', 'wrapped', 'wrinkles', 'written',\n       'yellowed', 'yellowing', 'york'], dtype=object)"
     },
     "execution_count": 19,
     "metadata": {},
     "output_type": "execute_result"
    }
   ],
   "source": [
    "vectorizer.get_feature_names_out()"
   ]
  },
  {
   "cell_type": "code",
   "execution_count": 20,
   "metadata": {
    "pycharm": {
     "name": "#%%\n"
    }
   },
   "outputs": [
    {
     "name": "stdout",
     "output_type": "stream",
     "text": [
      "[[0 0 0 ... 0 0 0]\n",
      " [0 0 0 ... 0 0 0]\n",
      " [0 0 0 ... 0 0 0]\n",
      " ...\n",
      " [0 0 0 ... 0 0 0]\n",
      " [0 0 0 ... 0 0 0]\n",
      " [0 0 0 ... 0 0 0]]\n"
     ]
    }
   ],
   "source": [
    "print(condition.toarray())"
   ]
  },
  {
   "cell_type": "code",
   "execution_count": 21,
   "metadata": {
    "pycharm": {
     "name": "#%%\n"
    }
   },
   "outputs": [
    {
     "ename": "AttributeError",
     "evalue": "'CountVectorizer' object has no attribute 'get_feature_names'",
     "output_type": "error",
     "traceback": [
      "\u001B[0;31m---------------------------------------------------------------------------\u001B[0m",
      "\u001B[0;31mAttributeError\u001B[0m                            Traceback (most recent call last)",
      "Cell \u001B[0;32mIn[21], line 1\u001B[0m\n\u001B[0;32m----> 1\u001B[0m condition_labels \u001B[38;5;241m=\u001B[39m pd\u001B[38;5;241m.\u001B[39mDataFrame(condition\u001B[38;5;241m.\u001B[39mtoarray(),columns\u001B[38;5;241m=\u001B[39m\u001B[43mvectorizer\u001B[49m\u001B[38;5;241;43m.\u001B[39;49m\u001B[43mget_feature_names\u001B[49m())\n\u001B[1;32m      2\u001B[0m condition_labels\n",
      "\u001B[0;31mAttributeError\u001B[0m: 'CountVectorizer' object has no attribute 'get_feature_names'"
     ]
    }
   ],
   "source": [
    "condition_labels = pd.DataFrame(condition.toarray(),columns=vectorizer.get_feature_names())\n",
    "condition_labels"
   ]
  },
  {
   "cell_type": "code",
   "execution_count": 22,
   "metadata": {
    "pycharm": {
     "name": "#%%\n"
    }
   },
   "outputs": [
    {
     "data": {
      "text/plain": "<754x501 sparse matrix of type '<class 'numpy.int64'>'\n\twith 4175 stored elements in Compressed Sparse Row format>"
     },
     "execution_count": 22,
     "metadata": {},
     "output_type": "execute_result"
    }
   ],
   "source": [
    "from sklearn.feature_extraction.text import CountVectorizer\n",
    "vectorizer2 = CountVectorizer()\n",
    "signed = vectorizer2.fit_transform(df['signed'])\n",
    "signed"
   ]
  },
  {
   "cell_type": "code",
   "execution_count": 23,
   "metadata": {
    "pycharm": {
     "name": "#%%\n"
    }
   },
   "outputs": [
    {
     "data": {
      "text/plain": "array(['00', '02', '05', '08', '10', '100', '105', '11', '12', '129',\n       '14', '15', '16', '17', '18', '1892', '1911', '1921', '1946',\n       '1959', '1962', '1964', '1965', '1971', '1975', '1976', '1979',\n       '1980', '1981', '1985', '1986', '1987', '1988', '1989', '1990',\n       '1991', '1993', '1998', '20', '2000', '2001', '2002', '2003',\n       '2005', '2010', '2011', '2012', '2016', '21', '22', '25', '26',\n       '27', '29', '2982', '30', '301', '31', '33', '33600j', '35', '367',\n       '37', '471', '50', '50th', '60', '71', '74', '75', '76', '77',\n       '78', '79', '80', '81together', '85', '86', '87', '89', '90',\n       '94115', '97', '98', '99', 'accompanied', 'acrylic', 'ad',\n       'affixed', 'afternoon', 'again', 'alaskan', 'albert', 'alex',\n       'ali', 'all', 'along', 'also', 'amadee', 'amedeo', 'and',\n       'annotated', 'annotation', 'ap', 'apel', 'archive', 'art',\n       'artist', 'ashforth', 'ashworth', 'at', 'attached', 'aug',\n       'authenticity', 'ax', 'back', 'backing', 'bankston', 'bar',\n       'barbara', 'base', 'bassot', 'beach', 'beal', 'bears', 'bellany',\n       'bemelmans', 'bernstein', 'besse', 'bii', 'bill', 'billy',\n       'blindstamped', 'block', 'bloomer', 'blue', 'blum', 'bois',\n       'bonakdar', 'bottom', 'braun', 'brian', 'bruce', 'building', 'by',\n       'ca', 'california', 'campbell', 'canvas', 'capitals', 'carl',\n       'carlsen', 'carnegie', 'case', 'center', 'certificate', 'charles',\n       'chops', 'christopher', 'clark', 'clay', 'code', 'collection',\n       'colophon', 'comb', 'commonwealth', 'copyright', 'copyrighted',\n       'cornelissen', 'corner', 'costan', 'coupe', 'couzy', 'crane',\n       'credit', 'crozier', 'date', 'dated', 'david', 'davies', 'davis',\n       'dawn', 'de', 'denise', 'derek', 'di', 'dibond', 'dkc', 'doherty',\n       'dolls', 'donna', 'drawing', 'du', 'dyf', 'each', 'ecornelissen',\n       'edge', 'edition', 'editioned', 'elrod', 'emaillé', 'embossed',\n       'engraved', 'ennis', 'estate', 'et', 'etienne', 'evergood', 'ex',\n       'far', 'fetherolf', 'fine', 'fischl', 'flip', 'for', 'ford', 'fox',\n       'frame', 'frances', 'francis', 'francisco', 'frank', 'frasconi',\n       'fred', 'frederick', 'freya', 'frid', 'from', 'front', 'fruits',\n       'fx', 'galerie', 'gallery', 'gary', 'gillian', 'graham', 'grant',\n       'graphite', 'green', 'gregory', 'guhrs', 'gundelfinger', 'gutzeit',\n       'guy', 'haas', 'hacking', 'hambleton', 'hand', 'hankey', 'hanlyn',\n       'hansell', 'happy', 'hardesty', 'hartman', 'hastings', 'hawes',\n       'he', 'head', 'heebner', 'hellenic', 'hellermann', 'henry', 'hill',\n       'hine', 'hirst', 'his', 'horst', 'hoyland', 'hudson', 'huxley',\n       'ii', 'illegibly', 'image', 'in', 'incorporated', 'indecipherable',\n       'indian', 'initialed', 'ink', 'inscribed', 'interpretive',\n       'inventory', 'ippolito', 'is', 'island', 'jack', 'jacobshagen',\n       'james', 'jannetti', 'janowich', 'jenkins', 'joan', 'john',\n       'joseph', 'jr', 'juli', 'julia', 'jumble', 'jx', 'kate', 'katz',\n       'keller', 'kenny', 'kill', 'killyan', 'king', 'kooning', 'kushner',\n       'label', 'labels', 'laske', 'lawrence', 'lee', 'left', 'leonardo',\n       'lettered', 'levy', 'lewis', 'light', 'linda', 'lisson', 'list',\n       'lococo', 'london', 'love', 'lower', 'lucy', 'maghaui', 'manager',\n       'manes', 'margin', 'mark', 'marked', 'marker', 'martha', 'mary',\n       'massachusetts', 'mat', 'maurice', 'maze', 'mazur', 'mclean',\n       'meeker', 'mellor', 'michael', 'mickey', 'micki', 'mid', 'middle',\n       'mitchell', 'mock', 'mont', 'morris', 'moses', 'mount', 'mp',\n       'name', 'nan', 'nancy', 'nelson', 'new', 'nice', 'no',\n       'noffsinger', 'norman', 'numbered', 'ode', 'of', 'oil', 'olav',\n       'on', 'one', 'only', 'or', 'page', 'paint', 'palisades', 'palm',\n       'paper', 'paris', 'parkinson', 'partially', 'pastel', 'paul',\n       'peace', 'pen', 'pencil', 'pendant', 'peter', 'philip',\n       'photographer', 'photographs', 'photography', 'piece', 'pigment',\n       'pilat', 'plaque', 'plate', 'porter', 'portfolio', 'postcard',\n       'printed', 'printer', 'proof', 'publisher', 'pène', 'ra', 'recto',\n       'rectoinscribed', 'rector', 'red', 'reverse', 'reverseii',\n       'reverseiii', 'richard', 'right', 'robert', 'rogers', 'roma',\n       'ron', 'ry', 'ry2008', 'sallick', 'sam', 'san', 'scalfani',\n       'schouten', 'schreyer', 'schroth', 'schulke', 'schwartz', 'seal',\n       'sequentially', 'sfm83', 'shaw', 'side', 'signature', 'signed',\n       'silver', 'silvery', 'simonetti', 'singed', 'situated', 'soloman',\n       'son', 'sophie', 'sorman', 'st', 'stamp', 'stamped', 'steven',\n       'stevens', 'sticker', 'stolle', 'stonehenge', 'storey', 'storms',\n       'street', 'stretcher', 'studio', 'sullivan', 'sw', 'tanya',\n       'thanks', 'the', 'three', 'tilson', 'title', 'titled', 'to',\n       'tony', 'top', 'towards', 'true', 'trujillo', 'truman', 'under',\n       'upper', 'vath', 'verso', 'vic', 'vintage', 'von', 'wait',\n       'walter', 'wardy', 'watrous', 'wegman', 'weiner', 'west', 'white',\n       'whiteford', 'widow', 'wildlife', 'william', 'with', 'wm', 'work',\n       'working', 'written', 'york'], dtype=object)"
     },
     "execution_count": 23,
     "metadata": {},
     "output_type": "execute_result"
    }
   ],
   "source": [
    "vectorizer2.get_feature_names_out()"
   ]
  },
  {
   "cell_type": "code",
   "execution_count": 24,
   "metadata": {
    "pycharm": {
     "name": "#%%\n"
    }
   },
   "outputs": [
    {
     "ename": "AttributeError",
     "evalue": "'CountVectorizer' object has no attribute 'get_feature_names'",
     "output_type": "error",
     "traceback": [
      "\u001B[0;31m---------------------------------------------------------------------------\u001B[0m",
      "\u001B[0;31mAttributeError\u001B[0m                            Traceback (most recent call last)",
      "Cell \u001B[0;32mIn[24], line 1\u001B[0m\n\u001B[0;32m----> 1\u001B[0m signed_labels \u001B[38;5;241m=\u001B[39m pd\u001B[38;5;241m.\u001B[39mDataFrame(signed\u001B[38;5;241m.\u001B[39mtoarray(),columns\u001B[38;5;241m=\u001B[39m\u001B[43mvectorizer2\u001B[49m\u001B[38;5;241;43m.\u001B[39;49m\u001B[43mget_feature_names\u001B[49m())\n\u001B[1;32m      2\u001B[0m signed_labels\n",
      "\u001B[0;31mAttributeError\u001B[0m: 'CountVectorizer' object has no attribute 'get_feature_names'"
     ]
    }
   ],
   "source": [
    "signed_labels = pd.DataFrame(signed.toarray(),columns=vectorizer2.get_feature_names())\n",
    "signed_labels"
   ]
  },
  {
   "cell_type": "code",
   "execution_count": 25,
   "metadata": {
    "pycharm": {
     "name": "#%%\n"
    }
   },
   "outputs": [],
   "source": [
    "df.drop(columns='signed',inplace=True)\n",
    "df.drop(columns='condition',inplace=True)\n",
    "df.drop(columns='artist',inplace=True)"
   ]
  },
  {
   "cell_type": "code",
   "execution_count": 26,
   "metadata": {
    "pycharm": {
     "name": "#%%\n"
    }
   },
   "outputs": [
    {
     "ename": "NameError",
     "evalue": "name 'signed_labels' is not defined",
     "output_type": "error",
     "traceback": [
      "\u001B[0;31m---------------------------------------------------------------------------\u001B[0m",
      "\u001B[0;31mNameError\u001B[0m                                 Traceback (most recent call last)",
      "Cell \u001B[0;32mIn[26], line 1\u001B[0m\n\u001B[0;32m----> 1\u001B[0m signed_labels \u001B[38;5;241m=\u001B[39m \u001B[43msigned_labels\u001B[49m\u001B[38;5;241m.\u001B[39mastype(\u001B[38;5;28mint\u001B[39m)\n\u001B[1;32m      2\u001B[0m condition_labels \u001B[38;5;241m=\u001B[39m condition_labels\u001B[38;5;241m.\u001B[39mastype(\u001B[38;5;28mint\u001B[39m)\n",
      "\u001B[0;31mNameError\u001B[0m: name 'signed_labels' is not defined"
     ]
    }
   ],
   "source": [
    "signed_labels = signed_labels.astype(int)\n",
    "condition_labels = condition_labels.astype(int)"
   ]
  },
  {
   "cell_type": "code",
   "execution_count": 27,
   "metadata": {
    "pycharm": {
     "name": "#%%\n"
    }
   },
   "outputs": [
    {
     "ename": "NameError",
     "evalue": "name 'condition_labels' is not defined",
     "output_type": "error",
     "traceback": [
      "\u001B[0;31m---------------------------------------------------------------------------\u001B[0m",
      "\u001B[0;31mNameError\u001B[0m                                 Traceback (most recent call last)",
      "Cell \u001B[0;32mIn[27], line 1\u001B[0m\n\u001B[0;32m----> 1\u001B[0m df \u001B[38;5;241m=\u001B[39m df\u001B[38;5;241m.\u001B[39mjoin(\u001B[43mcondition_labels\u001B[49m)\n",
      "\u001B[0;31mNameError\u001B[0m: name 'condition_labels' is not defined"
     ]
    }
   ],
   "source": [
    "df = df.join(condition_labels)"
   ]
  },
  {
   "cell_type": "code",
   "execution_count": 149,
   "metadata": {
    "pycharm": {
     "name": "#%%\n"
    }
   },
   "outputs": [
    {
     "data": {
      "text/html": [
       "<div>\n",
       "<style scoped>\n",
       "    .dataframe tbody tr th:only-of-type {\n",
       "        vertical-align: middle;\n",
       "    }\n",
       "\n",
       "    .dataframe tbody tr th {\n",
       "        vertical-align: top;\n",
       "    }\n",
       "\n",
       "    .dataframe thead th {\n",
       "        text-align: right;\n",
       "    }\n",
       "</style>\n",
       "<table border=\"1\" class=\"dataframe\">\n",
       "  <thead>\n",
       "    <tr style=\"text-align: right;\">\n",
       "      <th></th>\n",
       "      <th>Unnamed: 0</th>\n",
       "      <th>Unnamed: 0.1</th>\n",
       "      <th>Unnamed: 0.1.1</th>\n",
       "      <th>price</th>\n",
       "      <th>fame</th>\n",
       "      <th>title</th>\n",
       "      <th>yearCreation</th>\n",
       "      <th>Abstract</th>\n",
       "      <th>Abstract Expressionism</th>\n",
       "      <th>Art Brut</th>\n",
       "      <th>...</th>\n",
       "      <th>work</th>\n",
       "      <th>working</th>\n",
       "      <th>works</th>\n",
       "      <th>worn</th>\n",
       "      <th>wrapped</th>\n",
       "      <th>wrinkles</th>\n",
       "      <th>written</th>\n",
       "      <th>yellowed</th>\n",
       "      <th>yellowing</th>\n",
       "      <th>york</th>\n",
       "    </tr>\n",
       "  </thead>\n",
       "  <tbody>\n",
       "    <tr>\n",
       "      <th>0</th>\n",
       "      <td>0</td>\n",
       "      <td>0</td>\n",
       "      <td>0</td>\n",
       "      <td>28500</td>\n",
       "      <td>0.0</td>\n",
       "      <td>Bayreuth Opera</td>\n",
       "      <td>2021.0</td>\n",
       "      <td>0</td>\n",
       "      <td>0</td>\n",
       "      <td>0</td>\n",
       "      <td>...</td>\n",
       "      <td>1</td>\n",
       "      <td>0</td>\n",
       "      <td>0</td>\n",
       "      <td>0</td>\n",
       "      <td>0</td>\n",
       "      <td>0</td>\n",
       "      <td>0</td>\n",
       "      <td>0</td>\n",
       "      <td>0</td>\n",
       "      <td>0</td>\n",
       "    </tr>\n",
       "    <tr>\n",
       "      <th>1</th>\n",
       "      <td>1</td>\n",
       "      <td>1</td>\n",
       "      <td>1</td>\n",
       "      <td>3000</td>\n",
       "      <td>0.0</td>\n",
       "      <td>Drawings of the Opera</td>\n",
       "      <td>1993.0</td>\n",
       "      <td>0</td>\n",
       "      <td>0</td>\n",
       "      <td>0</td>\n",
       "      <td>...</td>\n",
       "      <td>0</td>\n",
       "      <td>0</td>\n",
       "      <td>1</td>\n",
       "      <td>0</td>\n",
       "      <td>0</td>\n",
       "      <td>0</td>\n",
       "      <td>0</td>\n",
       "      <td>0</td>\n",
       "      <td>0</td>\n",
       "      <td>0</td>\n",
       "    </tr>\n",
       "    <tr>\n",
       "      <th>2</th>\n",
       "      <td>2</td>\n",
       "      <td>2</td>\n",
       "      <td>2</td>\n",
       "      <td>5000</td>\n",
       "      <td>98.0</td>\n",
       "      <td>Two on Sidewalk</td>\n",
       "      <td>2016.0</td>\n",
       "      <td>1</td>\n",
       "      <td>0</td>\n",
       "      <td>0</td>\n",
       "      <td>...</td>\n",
       "      <td>1</td>\n",
       "      <td>0</td>\n",
       "      <td>0</td>\n",
       "      <td>0</td>\n",
       "      <td>0</td>\n",
       "      <td>0</td>\n",
       "      <td>0</td>\n",
       "      <td>0</td>\n",
       "      <td>0</td>\n",
       "      <td>0</td>\n",
       "    </tr>\n",
       "    <tr>\n",
       "      <th>3</th>\n",
       "      <td>3</td>\n",
       "      <td>3</td>\n",
       "      <td>3</td>\n",
       "      <td>5000</td>\n",
       "      <td>88.0</td>\n",
       "      <td>Blumenszene</td>\n",
       "      <td>2010.0</td>\n",
       "      <td>1</td>\n",
       "      <td>0</td>\n",
       "      <td>0</td>\n",
       "      <td>...</td>\n",
       "      <td>2</td>\n",
       "      <td>0</td>\n",
       "      <td>0</td>\n",
       "      <td>0</td>\n",
       "      <td>0</td>\n",
       "      <td>0</td>\n",
       "      <td>0</td>\n",
       "      <td>0</td>\n",
       "      <td>0</td>\n",
       "      <td>0</td>\n",
       "    </tr>\n",
       "    <tr>\n",
       "      <th>4</th>\n",
       "      <td>4</td>\n",
       "      <td>4</td>\n",
       "      <td>4</td>\n",
       "      <td>2500</td>\n",
       "      <td>0.0</td>\n",
       "      <td>Feverish Embarkation</td>\n",
       "      <td>2001.0</td>\n",
       "      <td>1</td>\n",
       "      <td>0</td>\n",
       "      <td>0</td>\n",
       "      <td>...</td>\n",
       "      <td>1</td>\n",
       "      <td>0</td>\n",
       "      <td>0</td>\n",
       "      <td>0</td>\n",
       "      <td>0</td>\n",
       "      <td>0</td>\n",
       "      <td>0</td>\n",
       "      <td>0</td>\n",
       "      <td>0</td>\n",
       "      <td>0</td>\n",
       "    </tr>\n",
       "    <tr>\n",
       "      <th>...</th>\n",
       "      <td>...</td>\n",
       "      <td>...</td>\n",
       "      <td>...</td>\n",
       "      <td>...</td>\n",
       "      <td>...</td>\n",
       "      <td>...</td>\n",
       "      <td>...</td>\n",
       "      <td>...</td>\n",
       "      <td>...</td>\n",
       "      <td>...</td>\n",
       "      <td>...</td>\n",
       "      <td>...</td>\n",
       "      <td>...</td>\n",
       "      <td>...</td>\n",
       "      <td>...</td>\n",
       "      <td>...</td>\n",
       "      <td>...</td>\n",
       "      <td>...</td>\n",
       "      <td>...</td>\n",
       "      <td>...</td>\n",
       "      <td>...</td>\n",
       "    </tr>\n",
       "    <tr>\n",
       "      <th>749</th>\n",
       "      <td>749</td>\n",
       "      <td>749</td>\n",
       "      <td>749</td>\n",
       "      <td>680</td>\n",
       "      <td>0.0</td>\n",
       "      <td>Miracle Grow #17</td>\n",
       "      <td>2012.0</td>\n",
       "      <td>1</td>\n",
       "      <td>0</td>\n",
       "      <td>0</td>\n",
       "      <td>...</td>\n",
       "      <td>0</td>\n",
       "      <td>0</td>\n",
       "      <td>0</td>\n",
       "      <td>0</td>\n",
       "      <td>0</td>\n",
       "      <td>0</td>\n",
       "      <td>0</td>\n",
       "      <td>0</td>\n",
       "      <td>0</td>\n",
       "      <td>0</td>\n",
       "    </tr>\n",
       "    <tr>\n",
       "      <th>750</th>\n",
       "      <td>750</td>\n",
       "      <td>750</td>\n",
       "      <td>750</td>\n",
       "      <td>1275</td>\n",
       "      <td>0.0</td>\n",
       "      <td>Rolph Series</td>\n",
       "      <td>1970.0</td>\n",
       "      <td>0</td>\n",
       "      <td>0</td>\n",
       "      <td>0</td>\n",
       "      <td>...</td>\n",
       "      <td>0</td>\n",
       "      <td>0</td>\n",
       "      <td>0</td>\n",
       "      <td>0</td>\n",
       "      <td>0</td>\n",
       "      <td>0</td>\n",
       "      <td>0</td>\n",
       "      <td>0</td>\n",
       "      <td>0</td>\n",
       "      <td>0</td>\n",
       "    </tr>\n",
       "    <tr>\n",
       "      <th>751</th>\n",
       "      <td>751</td>\n",
       "      <td>751</td>\n",
       "      <td>751</td>\n",
       "      <td>680</td>\n",
       "      <td>0.0</td>\n",
       "      <td>Untitled</td>\n",
       "      <td>2012.0</td>\n",
       "      <td>0</td>\n",
       "      <td>0</td>\n",
       "      <td>0</td>\n",
       "      <td>...</td>\n",
       "      <td>0</td>\n",
       "      <td>0</td>\n",
       "      <td>0</td>\n",
       "      <td>0</td>\n",
       "      <td>0</td>\n",
       "      <td>0</td>\n",
       "      <td>0</td>\n",
       "      <td>0</td>\n",
       "      <td>0</td>\n",
       "      <td>0</td>\n",
       "    </tr>\n",
       "    <tr>\n",
       "      <th>752</th>\n",
       "      <td>752</td>\n",
       "      <td>752</td>\n",
       "      <td>752</td>\n",
       "      <td>1275</td>\n",
       "      <td>0.0</td>\n",
       "      <td>Juniper</td>\n",
       "      <td>1986.0</td>\n",
       "      <td>1</td>\n",
       "      <td>0</td>\n",
       "      <td>0</td>\n",
       "      <td>...</td>\n",
       "      <td>0</td>\n",
       "      <td>0</td>\n",
       "      <td>0</td>\n",
       "      <td>0</td>\n",
       "      <td>0</td>\n",
       "      <td>0</td>\n",
       "      <td>0</td>\n",
       "      <td>0</td>\n",
       "      <td>0</td>\n",
       "      <td>0</td>\n",
       "    </tr>\n",
       "    <tr>\n",
       "      <th>753</th>\n",
       "      <td>753</td>\n",
       "      <td>753</td>\n",
       "      <td>753</td>\n",
       "      <td>680</td>\n",
       "      <td>0.0</td>\n",
       "      <td>Untitled Print</td>\n",
       "      <td>1975.0</td>\n",
       "      <td>0</td>\n",
       "      <td>0</td>\n",
       "      <td>0</td>\n",
       "      <td>...</td>\n",
       "      <td>0</td>\n",
       "      <td>0</td>\n",
       "      <td>0</td>\n",
       "      <td>0</td>\n",
       "      <td>0</td>\n",
       "      <td>0</td>\n",
       "      <td>0</td>\n",
       "      <td>0</td>\n",
       "      <td>0</td>\n",
       "      <td>0</td>\n",
       "    </tr>\n",
       "  </tbody>\n",
       "</table>\n",
       "<p>754 rows × 791 columns</p>\n",
       "</div>"
      ],
      "text/plain": [
       "     Unnamed: 0  Unnamed: 0.1  Unnamed: 0.1.1  price  fame  \\\n",
       "0             0             0               0  28500   0.0   \n",
       "1             1             1               1   3000   0.0   \n",
       "2             2             2               2   5000  98.0   \n",
       "3             3             3               3   5000  88.0   \n",
       "4             4             4               4   2500   0.0   \n",
       "..          ...           ...             ...    ...   ...   \n",
       "749         749           749             749    680   0.0   \n",
       "750         750           750             750   1275   0.0   \n",
       "751         751           751             751    680   0.0   \n",
       "752         752           752             752   1275   0.0   \n",
       "753         753           753             753    680   0.0   \n",
       "\n",
       "                     title  yearCreation  Abstract  Abstract Expressionism  \\\n",
       "0           Bayreuth Opera        2021.0         0                       0   \n",
       "1    Drawings of the Opera        1993.0         0                       0   \n",
       "2          Two on Sidewalk        2016.0         1                       0   \n",
       "3              Blumenszene        2010.0         1                       0   \n",
       "4     Feverish Embarkation        2001.0         1                       0   \n",
       "..                     ...           ...       ...                     ...   \n",
       "749       Miracle Grow #17        2012.0         1                       0   \n",
       "750           Rolph Series        1970.0         0                       0   \n",
       "751               Untitled        2012.0         0                       0   \n",
       "752                Juniper        1986.0         1                       0   \n",
       "753         Untitled Print        1975.0         0                       0   \n",
       "\n",
       "     Art Brut  ...  work  working  works  worn  wrapped  wrinkles  written  \\\n",
       "0           0  ...     1        0      0     0        0         0        0   \n",
       "1           0  ...     0        0      1     0        0         0        0   \n",
       "2           0  ...     1        0      0     0        0         0        0   \n",
       "3           0  ...     2        0      0     0        0         0        0   \n",
       "4           0  ...     1        0      0     0        0         0        0   \n",
       "..        ...  ...   ...      ...    ...   ...      ...       ...      ...   \n",
       "749         0  ...     0        0      0     0        0         0        0   \n",
       "750         0  ...     0        0      0     0        0         0        0   \n",
       "751         0  ...     0        0      0     0        0         0        0   \n",
       "752         0  ...     0        0      0     0        0         0        0   \n",
       "753         0  ...     0        0      0     0        0         0        0   \n",
       "\n",
       "     yellowed  yellowing  york  \n",
       "0           0          0     0  \n",
       "1           0          0     0  \n",
       "2           0          0     0  \n",
       "3           0          0     0  \n",
       "4           0          0     0  \n",
       "..        ...        ...   ...  \n",
       "749         0          0     0  \n",
       "750         0          0     0  \n",
       "751         0          0     0  \n",
       "752         0          0     0  \n",
       "753         0          0     0  \n",
       "\n",
       "[754 rows x 791 columns]"
      ]
     },
     "execution_count": 149,
     "metadata": {},
     "output_type": "execute_result"
    }
   ],
   "source": [
    "df"
   ]
  },
  {
   "cell_type": "code",
   "execution_count": 150,
   "metadata": {
    "pycharm": {
     "name": "#%%\n"
    }
   },
   "outputs": [],
   "source": [
    "df = df.join(signed_labels,lsuffix=\"_left\", rsuffix=\"_right\", how='right')"
   ]
  },
  {
   "cell_type": "code",
   "execution_count": 151,
   "metadata": {
    "pycharm": {
     "name": "#%%\n"
    }
   },
   "outputs": [],
   "source": [
    "df = df.drop(df.columns[[0, 1, 2,5]],axis = 1)"
   ]
  },
  {
   "cell_type": "code",
   "execution_count": 152,
   "metadata": {
    "pycharm": {
     "name": "#%%\n"
    }
   },
   "outputs": [
    {
     "data": {
      "text/html": [
       "<div>\n",
       "<style scoped>\n",
       "    .dataframe tbody tr th:only-of-type {\n",
       "        vertical-align: middle;\n",
       "    }\n",
       "\n",
       "    .dataframe tbody tr th {\n",
       "        vertical-align: top;\n",
       "    }\n",
       "\n",
       "    .dataframe thead th {\n",
       "        text-align: right;\n",
       "    }\n",
       "</style>\n",
       "<table border=\"1\" class=\"dataframe\">\n",
       "  <thead>\n",
       "    <tr style=\"text-align: right;\">\n",
       "      <th></th>\n",
       "      <th>price</th>\n",
       "      <th>fame</th>\n",
       "      <th>yearCreation</th>\n",
       "      <th>Abstract</th>\n",
       "      <th>Abstract Expressionism</th>\n",
       "      <th>Art Brut</th>\n",
       "      <th>Art Deco</th>\n",
       "      <th>Art Nouveau</th>\n",
       "      <th>Baroque</th>\n",
       "      <th>Conceptual</th>\n",
       "      <th>...</th>\n",
       "      <th>whiteford</th>\n",
       "      <th>widow</th>\n",
       "      <th>wildlife</th>\n",
       "      <th>william</th>\n",
       "      <th>with_right</th>\n",
       "      <th>wm</th>\n",
       "      <th>work_right</th>\n",
       "      <th>working_right</th>\n",
       "      <th>written_right</th>\n",
       "      <th>york_right</th>\n",
       "    </tr>\n",
       "  </thead>\n",
       "  <tbody>\n",
       "    <tr>\n",
       "      <th>0</th>\n",
       "      <td>28500</td>\n",
       "      <td>0.0</td>\n",
       "      <td>2021.0</td>\n",
       "      <td>0</td>\n",
       "      <td>0</td>\n",
       "      <td>0</td>\n",
       "      <td>0</td>\n",
       "      <td>0</td>\n",
       "      <td>1</td>\n",
       "      <td>0</td>\n",
       "      <td>...</td>\n",
       "      <td>0</td>\n",
       "      <td>0</td>\n",
       "      <td>0</td>\n",
       "      <td>0</td>\n",
       "      <td>0</td>\n",
       "      <td>0</td>\n",
       "      <td>0</td>\n",
       "      <td>0</td>\n",
       "      <td>0</td>\n",
       "      <td>0</td>\n",
       "    </tr>\n",
       "    <tr>\n",
       "      <th>1</th>\n",
       "      <td>3000</td>\n",
       "      <td>0.0</td>\n",
       "      <td>1993.0</td>\n",
       "      <td>0</td>\n",
       "      <td>0</td>\n",
       "      <td>0</td>\n",
       "      <td>0</td>\n",
       "      <td>0</td>\n",
       "      <td>0</td>\n",
       "      <td>0</td>\n",
       "      <td>...</td>\n",
       "      <td>0</td>\n",
       "      <td>0</td>\n",
       "      <td>0</td>\n",
       "      <td>0</td>\n",
       "      <td>0</td>\n",
       "      <td>0</td>\n",
       "      <td>0</td>\n",
       "      <td>0</td>\n",
       "      <td>0</td>\n",
       "      <td>0</td>\n",
       "    </tr>\n",
       "    <tr>\n",
       "      <th>2</th>\n",
       "      <td>5000</td>\n",
       "      <td>98.0</td>\n",
       "      <td>2016.0</td>\n",
       "      <td>1</td>\n",
       "      <td>0</td>\n",
       "      <td>0</td>\n",
       "      <td>0</td>\n",
       "      <td>0</td>\n",
       "      <td>0</td>\n",
       "      <td>0</td>\n",
       "      <td>...</td>\n",
       "      <td>0</td>\n",
       "      <td>0</td>\n",
       "      <td>0</td>\n",
       "      <td>0</td>\n",
       "      <td>0</td>\n",
       "      <td>0</td>\n",
       "      <td>0</td>\n",
       "      <td>0</td>\n",
       "      <td>0</td>\n",
       "      <td>0</td>\n",
       "    </tr>\n",
       "    <tr>\n",
       "      <th>3</th>\n",
       "      <td>5000</td>\n",
       "      <td>88.0</td>\n",
       "      <td>2010.0</td>\n",
       "      <td>1</td>\n",
       "      <td>0</td>\n",
       "      <td>0</td>\n",
       "      <td>0</td>\n",
       "      <td>0</td>\n",
       "      <td>0</td>\n",
       "      <td>0</td>\n",
       "      <td>...</td>\n",
       "      <td>0</td>\n",
       "      <td>0</td>\n",
       "      <td>0</td>\n",
       "      <td>0</td>\n",
       "      <td>1</td>\n",
       "      <td>0</td>\n",
       "      <td>0</td>\n",
       "      <td>0</td>\n",
       "      <td>0</td>\n",
       "      <td>0</td>\n",
       "    </tr>\n",
       "    <tr>\n",
       "      <th>4</th>\n",
       "      <td>2500</td>\n",
       "      <td>0.0</td>\n",
       "      <td>2001.0</td>\n",
       "      <td>1</td>\n",
       "      <td>0</td>\n",
       "      <td>0</td>\n",
       "      <td>0</td>\n",
       "      <td>0</td>\n",
       "      <td>0</td>\n",
       "      <td>0</td>\n",
       "      <td>...</td>\n",
       "      <td>0</td>\n",
       "      <td>0</td>\n",
       "      <td>0</td>\n",
       "      <td>0</td>\n",
       "      <td>0</td>\n",
       "      <td>0</td>\n",
       "      <td>0</td>\n",
       "      <td>0</td>\n",
       "      <td>0</td>\n",
       "      <td>0</td>\n",
       "    </tr>\n",
       "    <tr>\n",
       "      <th>...</th>\n",
       "      <td>...</td>\n",
       "      <td>...</td>\n",
       "      <td>...</td>\n",
       "      <td>...</td>\n",
       "      <td>...</td>\n",
       "      <td>...</td>\n",
       "      <td>...</td>\n",
       "      <td>...</td>\n",
       "      <td>...</td>\n",
       "      <td>...</td>\n",
       "      <td>...</td>\n",
       "      <td>...</td>\n",
       "      <td>...</td>\n",
       "      <td>...</td>\n",
       "      <td>...</td>\n",
       "      <td>...</td>\n",
       "      <td>...</td>\n",
       "      <td>...</td>\n",
       "      <td>...</td>\n",
       "      <td>...</td>\n",
       "      <td>...</td>\n",
       "    </tr>\n",
       "    <tr>\n",
       "      <th>749</th>\n",
       "      <td>680</td>\n",
       "      <td>0.0</td>\n",
       "      <td>2012.0</td>\n",
       "      <td>1</td>\n",
       "      <td>0</td>\n",
       "      <td>0</td>\n",
       "      <td>0</td>\n",
       "      <td>0</td>\n",
       "      <td>0</td>\n",
       "      <td>0</td>\n",
       "      <td>...</td>\n",
       "      <td>0</td>\n",
       "      <td>0</td>\n",
       "      <td>0</td>\n",
       "      <td>0</td>\n",
       "      <td>0</td>\n",
       "      <td>0</td>\n",
       "      <td>0</td>\n",
       "      <td>0</td>\n",
       "      <td>0</td>\n",
       "      <td>0</td>\n",
       "    </tr>\n",
       "    <tr>\n",
       "      <th>750</th>\n",
       "      <td>1275</td>\n",
       "      <td>0.0</td>\n",
       "      <td>1970.0</td>\n",
       "      <td>0</td>\n",
       "      <td>0</td>\n",
       "      <td>0</td>\n",
       "      <td>0</td>\n",
       "      <td>0</td>\n",
       "      <td>0</td>\n",
       "      <td>0</td>\n",
       "      <td>...</td>\n",
       "      <td>0</td>\n",
       "      <td>0</td>\n",
       "      <td>0</td>\n",
       "      <td>0</td>\n",
       "      <td>0</td>\n",
       "      <td>0</td>\n",
       "      <td>0</td>\n",
       "      <td>0</td>\n",
       "      <td>0</td>\n",
       "      <td>0</td>\n",
       "    </tr>\n",
       "    <tr>\n",
       "      <th>751</th>\n",
       "      <td>680</td>\n",
       "      <td>0.0</td>\n",
       "      <td>2012.0</td>\n",
       "      <td>0</td>\n",
       "      <td>0</td>\n",
       "      <td>0</td>\n",
       "      <td>0</td>\n",
       "      <td>0</td>\n",
       "      <td>0</td>\n",
       "      <td>0</td>\n",
       "      <td>...</td>\n",
       "      <td>0</td>\n",
       "      <td>0</td>\n",
       "      <td>0</td>\n",
       "      <td>0</td>\n",
       "      <td>0</td>\n",
       "      <td>0</td>\n",
       "      <td>0</td>\n",
       "      <td>0</td>\n",
       "      <td>0</td>\n",
       "      <td>0</td>\n",
       "    </tr>\n",
       "    <tr>\n",
       "      <th>752</th>\n",
       "      <td>1275</td>\n",
       "      <td>0.0</td>\n",
       "      <td>1986.0</td>\n",
       "      <td>1</td>\n",
       "      <td>0</td>\n",
       "      <td>0</td>\n",
       "      <td>0</td>\n",
       "      <td>0</td>\n",
       "      <td>0</td>\n",
       "      <td>0</td>\n",
       "      <td>...</td>\n",
       "      <td>0</td>\n",
       "      <td>0</td>\n",
       "      <td>0</td>\n",
       "      <td>0</td>\n",
       "      <td>0</td>\n",
       "      <td>0</td>\n",
       "      <td>0</td>\n",
       "      <td>0</td>\n",
       "      <td>0</td>\n",
       "      <td>0</td>\n",
       "    </tr>\n",
       "    <tr>\n",
       "      <th>753</th>\n",
       "      <td>680</td>\n",
       "      <td>0.0</td>\n",
       "      <td>1975.0</td>\n",
       "      <td>0</td>\n",
       "      <td>0</td>\n",
       "      <td>0</td>\n",
       "      <td>0</td>\n",
       "      <td>0</td>\n",
       "      <td>0</td>\n",
       "      <td>0</td>\n",
       "      <td>...</td>\n",
       "      <td>0</td>\n",
       "      <td>0</td>\n",
       "      <td>0</td>\n",
       "      <td>0</td>\n",
       "      <td>0</td>\n",
       "      <td>0</td>\n",
       "      <td>0</td>\n",
       "      <td>0</td>\n",
       "      <td>0</td>\n",
       "      <td>0</td>\n",
       "    </tr>\n",
       "  </tbody>\n",
       "</table>\n",
       "<p>754 rows × 1288 columns</p>\n",
       "</div>"
      ],
      "text/plain": [
       "     price  fame  yearCreation  Abstract  Abstract Expressionism  Art Brut  \\\n",
       "0    28500   0.0        2021.0         0                       0         0   \n",
       "1     3000   0.0        1993.0         0                       0         0   \n",
       "2     5000  98.0        2016.0         1                       0         0   \n",
       "3     5000  88.0        2010.0         1                       0         0   \n",
       "4     2500   0.0        2001.0         1                       0         0   \n",
       "..     ...   ...           ...       ...                     ...       ...   \n",
       "749    680   0.0        2012.0         1                       0         0   \n",
       "750   1275   0.0        1970.0         0                       0         0   \n",
       "751    680   0.0        2012.0         0                       0         0   \n",
       "752   1275   0.0        1986.0         1                       0         0   \n",
       "753    680   0.0        1975.0         0                       0         0   \n",
       "\n",
       "     Art Deco  Art Nouveau  Baroque  Conceptual   ...  whiteford  widow  \\\n",
       "0           0            0        1            0  ...          0      0   \n",
       "1           0            0        0            0  ...          0      0   \n",
       "2           0            0        0            0  ...          0      0   \n",
       "3           0            0        0            0  ...          0      0   \n",
       "4           0            0        0            0  ...          0      0   \n",
       "..        ...          ...      ...          ...  ...        ...    ...   \n",
       "749         0            0        0            0  ...          0      0   \n",
       "750         0            0        0            0  ...          0      0   \n",
       "751         0            0        0            0  ...          0      0   \n",
       "752         0            0        0            0  ...          0      0   \n",
       "753         0            0        0            0  ...          0      0   \n",
       "\n",
       "     wildlife  william  with_right  wm  work_right  working_right  \\\n",
       "0           0        0           0   0           0              0   \n",
       "1           0        0           0   0           0              0   \n",
       "2           0        0           0   0           0              0   \n",
       "3           0        0           1   0           0              0   \n",
       "4           0        0           0   0           0              0   \n",
       "..        ...      ...         ...  ..         ...            ...   \n",
       "749         0        0           0   0           0              0   \n",
       "750         0        0           0   0           0              0   \n",
       "751         0        0           0   0           0              0   \n",
       "752         0        0           0   0           0              0   \n",
       "753         0        0           0   0           0              0   \n",
       "\n",
       "     written_right  york_right  \n",
       "0                0           0  \n",
       "1                0           0  \n",
       "2                0           0  \n",
       "3                0           0  \n",
       "4                0           0  \n",
       "..             ...         ...  \n",
       "749              0           0  \n",
       "750              0           0  \n",
       "751              0           0  \n",
       "752              0           0  \n",
       "753              0           0  \n",
       "\n",
       "[754 rows x 1288 columns]"
      ]
     },
     "execution_count": 152,
     "metadata": {},
     "output_type": "execute_result"
    }
   ],
   "source": [
    "df"
   ]
  },
  {
   "cell_type": "code",
   "execution_count": 161,
   "metadata": {
    "pycharm": {
     "name": "#%%\n"
    }
   },
   "outputs": [],
   "source": [
    "from sklearn.model_selection import train_test_split\n",
    "X = df.loc[:, ~df.columns.isin(['artist', 'title', 'signed','condition','title_left','price'])]\n",
    "Y = df[\"price\"]\n",
    "X_train, X_test, y_train, y_test = train_test_split(X, Y, test_size=0.2)"
   ]
  },
  {
   "cell_type": "code",
   "execution_count": 162,
   "metadata": {
    "pycharm": {
     "name": "#%%\n"
    }
   },
   "outputs": [
    {
     "name": "stdout",
     "output_type": "stream",
     "text": [
      "Training Score:  0.8927311949833197\n",
      "Testing Score:  0.2566512358100401\n",
      "Testing Mean Absolute Error:  3071.878462468827\n"
     ]
    }
   ],
   "source": [
    "from sklearn.ensemble import RandomForestRegressor\n",
    "from sklearn.metrics import mean_absolute_error\n",
    "regr = RandomForestRegressor(max_depth=20, random_state=0)\n",
    "regr.fit(X_train,y_train)\n",
    "print(\"Training Score: \",regr.score(X_train,y_train))\n",
    "print(\"Testing Score: \",regr.score(X_test,y_test))\n",
    "print(\"Testing Mean Absolute Error: \", mean_absolute_error(y_test,regr.predict(X_test)))"
   ]
  },
  {
   "cell_type": "code",
   "execution_count": 163,
   "metadata": {
    "pycharm": {
     "name": "#%%\n"
    }
   },
   "outputs": [
    {
     "name": "stdout",
     "output_type": "stream",
     "text": [
      " 1) fame       0.124871 index:  1\n",
      " 2) occasional 0.107238 index:  478\n",
      " 3) Photorealism 0.070055 index:  24\n",
      " 4) yearCreation 0.065128 index:  2\n",
      " 5) red        0.059889 index:  1197\n",
      " 6) Pop Art    0.058866 index:  25\n",
      " 7) norman     0.055948 index:  1151\n",
      " 8) vath       0.017984 index:  1265\n",
      " 9) that       0.017840 index:  698\n",
      "10) impressions 0.017696 index:  361\n",
      "11) richard    0.015565 index:  1201\n",
      "12) thin       0.013791 index:  704\n",
      "13) oil_left   0.013485 index:  482\n",
      "14) thanks     0.013385 index:  1250\n",
      "15) mixed      0.013216 index:  446\n",
      "16) Abstract Expressionism 0.012340 index:  4\n",
      "17) examples   0.012272 index:  265\n",
      "18) provided   0.012168 index:  553\n",
      "19) amedeo     0.010974 index:  886\n",
      "20) foxing     0.010721 index:  297\n",
      "21) dinged     0.010675 index:  224\n",
      "22) bonakdar   0.009255 index:  925\n",
      "23) lee        0.008886 index:  1099\n",
      "24) working_left 0.008052 index:  778\n",
      "25) fresh      0.007810 index:  303\n",
      "26) dyf        0.007809 index:  980\n",
      "27) date       0.007790 index:  963\n",
      "28) Contemporary 0.007467 index:  37\n",
      "29) Conceptual  0.006663 index:  9\n",
      "30) examination 0.006383 index:  263\n",
      "31) olav       0.005735 index:  1156\n",
      "32) wood       0.005564 index:  776\n",
      "33) under_right 0.005524 index:  1263\n",
      "34) from_right 0.005312 index:  1014\n",
      "35) du_right   0.005043 index:  979\n",
      "36) ra         0.004846 index:  1193\n",
      "37) be         0.004534 index:  117\n",
      "38) Realism    0.004498 index:  30\n",
      "39) art_right  0.004461 index:  893\n",
      "40) building   0.004229 index:  930\n"
     ]
    }
   ],
   "source": [
    "import numpy as np\n",
    "importances = regr.feature_importances_\n",
    "sorted_indices = np.argsort(importances)[::-1]\n",
    " \n",
    "feat_labels = df.columns[1:]\n",
    " \n",
    "for f in range(40):\n",
    "    print(\"%2d) %-*s %f\" % (f + 1, 10,\n",
    "                            feat_labels[sorted_indices[f]],\n",
    "                            importances[sorted_indices[f]]),\"index: \",df.columns.get_loc(str(feat_labels[sorted_indices[f]])))"
   ]
  },
  {
   "cell_type": "code",
   "execution_count": 164,
   "metadata": {
    "pycharm": {
     "name": "#%%\n"
    }
   },
   "outputs": [
    {
     "name": "stdout",
     "output_type": "stream",
     "text": [
      "Training Score:  0.5541669884777928\n",
      "Testing Score:  -6.710022526523216\n",
      "Testing Mean Absolute Error:  14553.908692708004\n"
     ]
    }
   ],
   "source": [
    "from sklearn.linear_model import LinearRegression\n",
    "import numpy as np\n",
    "regr = LinearRegression()\n",
    "regr.fit(X_train,y_train)\n",
    "print(\"Training Score: \",regr.score(X_train,y_train))\n",
    "print(\"Testing Score: \",regr.score(X_test,y_test))\n",
    "print(\"Testing Mean Absolute Error: \", mean_absolute_error(y_test,regr.predict(X_test)))"
   ]
  },
  {
   "cell_type": "code",
   "execution_count": 165,
   "metadata": {
    "pycharm": {
     "name": "#%%\n"
    }
   },
   "outputs": [
    {
     "name": "stdout",
     "output_type": "stream",
     "text": [
      "Training Score:  0.3637762167948779\n",
      "Testing Score:  -0.013745124106342654\n",
      "Testing Mean Absolute Error:  4797.854304635762\n"
     ]
    }
   ],
   "source": [
    "from sklearn.neighbors import KNeighborsRegressor\n",
    "regr = KNeighborsRegressor()\n",
    "regr.fit(X_train,y_train)\n",
    "print(\"Training Score: \",regr.score(X_train,y_train))\n",
    "print(\"Testing Score: \",regr.score(X_test,y_test))\n",
    "print(\"Testing Mean Absolute Error: \", mean_absolute_error(y_test,regr.predict(X_test)))"
   ]
  },
  {
   "cell_type": "code",
   "execution_count": 166,
   "metadata": {
    "pycharm": {
     "name": "#%%\n"
    }
   },
   "outputs": [
    {
     "data": {
      "text/plain": [
       "RFE(estimator=RandomForestRegressor(max_depth=20, random_state=0),\n",
       "    n_features_to_select=15)"
      ]
     },
     "execution_count": 166,
     "metadata": {},
     "output_type": "execute_result"
    }
   ],
   "source": [
    "# import libraries\n",
    "from sklearn.feature_selection import RFE\n",
    "\n",
    "# define RFE\n",
    "rfe = RFE(estimator=RandomForestRegressor(max_depth=20, random_state=0),n_features_to_select=15)\n",
    "# fit RFE\n",
    "rfe.fit(X, Y)\n"
   ]
  },
  {
   "cell_type": "code",
   "execution_count": 167,
   "metadata": {
    "pycharm": {
     "name": "#%%\n"
    }
   },
   "outputs": [
    {
     "name": "stdout",
     "output_type": "stream",
     "text": [
      "Training Score:  0.8848602594339088\n",
      "Testing Score:  0.17578211610545946\n",
      "Testing Mean Absolute Error:  3307.5716269283275\n"
     ]
    }
   ],
   "source": [
    "forest = RandomForestRegressor(max_depth=20, random_state=0)\n",
    "_ = forest.fit(rfe.transform(X_train), y_train)\n",
    "print(\"Training Score: \",forest.score(rfe.transform(X_train),y_train))\n",
    "print(\"Testing Score: \",forest.score(rfe.transform(X_test),y_test))\n",
    "print(\"Testing Mean Absolute Error: \", mean_absolute_error(y_test,forest.predict(rfe.transform(X_test))))"
   ]
  },
  {
   "cell_type": "code",
   "execution_count": 168,
   "metadata": {
    "pycharm": {
     "name": "#%%\n"
    }
   },
   "outputs": [
    {
     "name": "stdout",
     "output_type": "stream",
     "text": [
      " 1) fame       0.184862 index:  1\n",
      " 2) yearCreation 0.145194 index:  2\n",
      " 3) Art Nouveau 0.133943 index:  7\n",
      " 4) Abstract Expressionism 0.078284 index:  4\n",
      " 5) Expressionism 0.074199 index:  12\n",
      " 6) Feminist Art  0.071030 index:  13\n",
      " 7) Abstract   0.070493 index:  3\n",
      " 8) Conceptual  0.042495 index:  9\n",
      " 9) Impressionism 0.042036 index:  15\n",
      "10) Baroque    0.040333 index:  8\n",
      "11) Geometric Abstraction 0.033721 index:  14\n",
      "12) Cubism     0.023724 index:  10\n",
      "13) Art Brut   0.021485 index:  5\n",
      "14) Environmental Art 0.020248 index:  11\n",
      "15) Art Deco   0.017954 index:  6\n"
     ]
    }
   ],
   "source": [
    "import numpy as np\n",
    "importances = forest.feature_importances_\n",
    "sorted_indices = np.argsort(importances)[::-1]\n",
    " \n",
    "feat_labels = df.columns[1:]\n",
    " \n",
    "for f in range(15):\n",
    "    print(\"%2d) %-*s %f\" % (f + 1, 10,\n",
    "                            feat_labels[sorted_indices[f]],\n",
    "                            importances[sorted_indices[f]]),\"index: \",df.columns.get_loc(str(feat_labels[sorted_indices[f]])))"
   ]
  },
  {
   "cell_type": "code",
   "execution_count": 169,
   "metadata": {
    "pycharm": {
     "name": "#%%\n"
    }
   },
   "outputs": [
    {
     "name": "stdout",
     "output_type": "stream",
     "text": [
      "1286\n"
     ]
    }
   ],
   "source": [
    "print(X.shape[1])"
   ]
  },
  {
   "cell_type": "code",
   "execution_count": 170,
   "metadata": {
    "pycharm": {
     "name": "#%%\n"
    }
   },
   "outputs": [
    {
     "data": {
      "text/plain": [
       "['ArtNum.joblib']"
      ]
     },
     "execution_count": 170,
     "metadata": {},
     "output_type": "execute_result"
    }
   ],
   "source": [
    "from joblib import dump, load\n",
    "dump(forest, 'ArtNum.joblib') "
   ]
  },
  {
   "cell_type": "code",
   "execution_count": 1,
   "metadata": {
    "pycharm": {
     "name": "#%%\n"
    }
   },
   "outputs": [
    {
     "name": "stdout",
     "output_type": "stream",
     "text": [
      "The model complexity has been greatly reduced using recursive feature elimination from 1286 features down to 15 features. However the simplified model estimation is around 300 dollars worse which is about 10 percent worse.\n"
     ]
    }
   ],
   "source": [
    "print(\"The model complexity has been greatly reduced using recursive feature elimination from 1286 features down to 15 features. However the simplified model estimation is around 300 dollars worse which is about 10 percent worse.\")"
   ]
  },
  {
   "cell_type": "code",
   "execution_count": null,
   "metadata": {
    "pycharm": {
     "name": "#%%\n"
    }
   },
   "outputs": [],
   "source": []
  }
 ],
 "metadata": {
  "colab": {
   "provenance": []
  },
  "kernelspec": {
   "display_name": "Python 3 (ipykernel)",
   "language": "python",
   "name": "python3"
  },
  "language_info": {
   "codemirror_mode": {
    "name": "ipython",
    "version": 3
   },
   "file_extension": ".py",
   "mimetype": "text/x-python",
   "name": "python",
   "nbconvert_exporter": "python",
   "pygments_lexer": "ipython3",
   "version": "3.7.13"
  }
 },
 "nbformat": 4,
 "nbformat_minor": 4
}